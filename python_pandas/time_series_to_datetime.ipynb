{
 "cells": [
  {
   "cell_type": "code",
   "execution_count": 6,
   "id": "piano-hayes",
   "metadata": {},
   "outputs": [],
   "source": [
    "import pandas as pd\n",
    "dates=['2021-01-05 2:30:00 AM','Jan 5,2021','01/05/2021 14:30:00','2021/01/05','20210105']"
   ]
  },
  {
   "cell_type": "code",
   "execution_count": 7,
   "id": "collaborative-enlargement",
   "metadata": {},
   "outputs": [
    {
     "data": {
      "text/plain": [
       "DatetimeIndex(['2021-01-05 02:30:00', '2021-01-05 00:00:00',\n",
       "               '2021-01-05 14:30:00', '2021-01-05 00:00:00',\n",
       "               '2021-01-05 00:00:00'],\n",
       "              dtype='datetime64[ns]', freq=None)"
      ]
     },
     "execution_count": 7,
     "metadata": {},
     "output_type": "execute_result"
    }
   ],
   "source": [
    "pd.to_datetime(dates)"
   ]
  },
  {
   "cell_type": "code",
   "execution_count": 8,
   "id": "excellent-infrared",
   "metadata": {},
   "outputs": [
    {
     "data": {
      "text/plain": [
       "Timestamp('2017-01-05 00:00:00')"
      ]
     },
     "execution_count": 8,
     "metadata": {},
     "output_type": "execute_result"
    }
   ],
   "source": [
    "#europe date\n",
    "pd.to_datetime('05/01/2017',dayfirst=True)"
   ]
  },
  {
   "cell_type": "code",
   "execution_count": 12,
   "id": "moving-violation",
   "metadata": {},
   "outputs": [
    {
     "data": {
      "text/plain": [
       "Timestamp('2017-01-05 00:00:00')"
      ]
     },
     "execution_count": 12,
     "metadata": {},
     "output_type": "execute_result"
    }
   ],
   "source": [
    "pd.to_datetime('05$01$2017',format='%d$%m$%Y')"
   ]
  },
  {
   "cell_type": "code",
   "execution_count": 14,
   "id": "turkish-million",
   "metadata": {},
   "outputs": [
    {
     "data": {
      "text/plain": [
       "Index(['2021-01-05 2:30:00 AM', 'Jan 5,2021', '01/05/2021 14:30:00',\n",
       "       '2021/01/05', 'cvb'],\n",
       "      dtype='object')"
      ]
     },
     "execution_count": 14,
     "metadata": {},
     "output_type": "execute_result"
    }
   ],
   "source": [
    "dates=['2021-01-05 2:30:00 AM','Jan 5,2021','01/05/2021 14:30:00','2021/01/05','cvb',]\n",
    "pd.to_datetime(dates,errors='ignore')"
   ]
  },
  {
   "cell_type": "code",
   "execution_count": 15,
   "id": "published-pontiac",
   "metadata": {},
   "outputs": [
    {
     "data": {
      "text/plain": [
       "DatetimeIndex(['2021-01-05 02:30:00', '2021-01-05 00:00:00',\n",
       "               '2021-01-05 14:30:00', '2021-01-05 00:00:00',\n",
       "                               'NaT'],\n",
       "              dtype='datetime64[ns]', freq=None)"
      ]
     },
     "execution_count": 15,
     "metadata": {},
     "output_type": "execute_result"
    }
   ],
   "source": [
    "pd.to_datetime(dates,errors='coerce')"
   ]
  },
  {
   "cell_type": "code",
   "execution_count": 19,
   "id": "funky-freedom",
   "metadata": {},
   "outputs": [
    {
     "data": {
      "text/plain": [
       "Timestamp('2017-07-29 19:32:29')"
      ]
     },
     "execution_count": 19,
     "metadata": {},
     "output_type": "execute_result"
    }
   ],
   "source": [
    "t=1501356749\n",
    "pd.to_datetime(t,unit='s')"
   ]
  },
  {
   "cell_type": "code",
   "execution_count": 25,
   "id": "impressed-wallet",
   "metadata": {},
   "outputs": [
    {
     "data": {
      "text/plain": [
       "DatetimeIndex(['2017-07-29 19:32:29'], dtype='datetime64[ns]', freq=None)"
      ]
     },
     "execution_count": 25,
     "metadata": {},
     "output_type": "execute_result"
    }
   ],
   "source": [
    "t=1501356749\n",
    "pd.to_datetime([t],unit='s')"
   ]
  },
  {
   "cell_type": "code",
   "execution_count": 27,
   "id": "homeless-moisture",
   "metadata": {},
   "outputs": [
    {
     "data": {
      "text/plain": [
       "DatetimeIndex(['2017-07-29 19:32:29'], dtype='datetime64[ns]', freq=None)"
      ]
     },
     "execution_count": 27,
     "metadata": {},
     "output_type": "execute_result"
    }
   ],
   "source": [
    "dt=pd.to_datetime([t],unit='s')\n",
    "dt"
   ]
  },
  {
   "cell_type": "code",
   "execution_count": 28,
   "id": "subsequent-number",
   "metadata": {},
   "outputs": [
    {
     "data": {
      "text/plain": [
       "array([1501356749000000000], dtype=int64)"
      ]
     },
     "execution_count": 28,
     "metadata": {},
     "output_type": "execute_result"
    }
   ],
   "source": [
    "dt.view('int64')"
   ]
  },
  {
   "cell_type": "code",
   "execution_count": null,
   "id": "spectacular-advancement",
   "metadata": {},
   "outputs": [],
   "source": []
  },
  {
   "cell_type": "code",
   "execution_count": null,
   "id": "suited-trademark",
   "metadata": {},
   "outputs": [],
   "source": []
  }
 ],
 "metadata": {
  "kernelspec": {
   "display_name": "Python 3",
   "language": "python",
   "name": "python3"
  },
  "language_info": {
   "codemirror_mode": {
    "name": "ipython",
    "version": 3
   },
   "file_extension": ".py",
   "mimetype": "text/x-python",
   "name": "python",
   "nbconvert_exporter": "python",
   "pygments_lexer": "ipython3",
   "version": "3.7.9"
  }
 },
 "nbformat": 4,
 "nbformat_minor": 5
}

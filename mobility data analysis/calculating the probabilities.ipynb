{
 "cells": [
  {
   "cell_type": "code",
   "execution_count": 9,
   "id": "turkish-award",
   "metadata": {},
   "outputs": [],
   "source": [
    "import numpy as np\n",
    "import pandas as pd\n",
    "import pyproj\n",
    "from matplotlib import pylab as plt"
   ]
  },
  {
   "cell_type": "markdown",
   "id": "demonstrated-glasgow",
   "metadata": {},
   "source": [
    "<div class=\"alert alert-block alert-danger\">\n",
    "    <b>Task001:</b> Loading data\n",
    "    Load the dataset from <b>synth_mobility_wgs84.csv</b>\n",
    "</div>"
   ]
  },
  {
   "cell_type": "code",
   "execution_count": 10,
   "id": "compound-access",
   "metadata": {},
   "outputs": [],
   "source": [
    "df = pd.read_csv('synth_mobility_wgs84.csv')"
   ]
  },
  {
   "cell_type": "markdown",
   "id": "living-curtis",
   "metadata": {},
   "source": [
    "<div class=\"alert alert-block alert-info\">\n",
    "<b>Task001 verification:</b> The data should be as follows\n",
    "</div>"
   ]
  },
  {
   "cell_type": "code",
   "execution_count": 3,
   "id": "third-director",
   "metadata": {},
   "outputs": [
    {
     "data": {
      "text/html": [
       "<div>\n",
       "<style scoped>\n",
       "    .dataframe tbody tr th:only-of-type {\n",
       "        vertical-align: middle;\n",
       "    }\n",
       "\n",
       "    .dataframe tbody tr th {\n",
       "        vertical-align: top;\n",
       "    }\n",
       "\n",
       "    .dataframe thead th {\n",
       "        text-align: right;\n",
       "    }\n",
       "</style>\n",
       "<table border=\"1\" class=\"dataframe\">\n",
       "  <thead>\n",
       "    <tr style=\"text-align: right;\">\n",
       "      <th></th>\n",
       "      <th>epoch</th>\n",
       "      <th>id</th>\n",
       "      <th>lat</th>\n",
       "      <th>lon</th>\n",
       "      <th>mod</th>\n",
       "      <th>speed</th>\n",
       "    </tr>\n",
       "  </thead>\n",
       "  <tbody>\n",
       "    <tr>\n",
       "      <th>0</th>\n",
       "      <td>0</td>\n",
       "      <td>93</td>\n",
       "      <td>58.379306</td>\n",
       "      <td>26.670680</td>\n",
       "      <td>1</td>\n",
       "      <td>0.000</td>\n",
       "    </tr>\n",
       "    <tr>\n",
       "      <th>1</th>\n",
       "      <td>0</td>\n",
       "      <td>113</td>\n",
       "      <td>58.384715</td>\n",
       "      <td>26.670892</td>\n",
       "      <td>2</td>\n",
       "      <td>0.000</td>\n",
       "    </tr>\n",
       "    <tr>\n",
       "      <th>2</th>\n",
       "      <td>0</td>\n",
       "      <td>298</td>\n",
       "      <td>58.356229</td>\n",
       "      <td>26.714594</td>\n",
       "      <td>4</td>\n",
       "      <td>0.000</td>\n",
       "    </tr>\n",
       "    <tr>\n",
       "      <th>3</th>\n",
       "      <td>0</td>\n",
       "      <td>303</td>\n",
       "      <td>58.366927</td>\n",
       "      <td>26.607089</td>\n",
       "      <td>5</td>\n",
       "      <td>0.000</td>\n",
       "    </tr>\n",
       "    <tr>\n",
       "      <th>4</th>\n",
       "      <td>0</td>\n",
       "      <td>307</td>\n",
       "      <td>58.380028</td>\n",
       "      <td>26.653607</td>\n",
       "      <td>6</td>\n",
       "      <td>0.000</td>\n",
       "    </tr>\n",
       "    <tr>\n",
       "      <th>...</th>\n",
       "      <td>...</td>\n",
       "      <td>...</td>\n",
       "      <td>...</td>\n",
       "      <td>...</td>\n",
       "      <td>...</td>\n",
       "      <td>...</td>\n",
       "    </tr>\n",
       "    <tr>\n",
       "      <th>882922</th>\n",
       "      <td>14835</td>\n",
       "      <td>281</td>\n",
       "      <td>58.364580</td>\n",
       "      <td>26.905873</td>\n",
       "      <td>3</td>\n",
       "      <td>4.830</td>\n",
       "    </tr>\n",
       "    <tr>\n",
       "      <th>882923</th>\n",
       "      <td>14836</td>\n",
       "      <td>281</td>\n",
       "      <td>58.364589</td>\n",
       "      <td>26.905856</td>\n",
       "      <td>3</td>\n",
       "      <td>4.992</td>\n",
       "    </tr>\n",
       "    <tr>\n",
       "      <th>882924</th>\n",
       "      <td>14837</td>\n",
       "      <td>281</td>\n",
       "      <td>58.364599</td>\n",
       "      <td>26.905836</td>\n",
       "      <td>3</td>\n",
       "      <td>5.753</td>\n",
       "    </tr>\n",
       "    <tr>\n",
       "      <th>882925</th>\n",
       "      <td>14838</td>\n",
       "      <td>281</td>\n",
       "      <td>58.364608</td>\n",
       "      <td>26.905817</td>\n",
       "      <td>3</td>\n",
       "      <td>5.455</td>\n",
       "    </tr>\n",
       "    <tr>\n",
       "      <th>882926</th>\n",
       "      <td>14839</td>\n",
       "      <td>281</td>\n",
       "      <td>58.364616</td>\n",
       "      <td>26.905801</td>\n",
       "      <td>3</td>\n",
       "      <td>4.635</td>\n",
       "    </tr>\n",
       "  </tbody>\n",
       "</table>\n",
       "<p>882927 rows × 6 columns</p>\n",
       "</div>"
      ],
      "text/plain": [
       "        epoch   id        lat        lon  mod  speed\n",
       "0           0   93  58.379306  26.670680    1  0.000\n",
       "1           0  113  58.384715  26.670892    2  0.000\n",
       "2           0  298  58.356229  26.714594    4  0.000\n",
       "3           0  303  58.366927  26.607089    5  0.000\n",
       "4           0  307  58.380028  26.653607    6  0.000\n",
       "...       ...  ...        ...        ...  ...    ...\n",
       "882922  14835  281  58.364580  26.905873    3  4.830\n",
       "882923  14836  281  58.364589  26.905856    3  4.992\n",
       "882924  14837  281  58.364599  26.905836    3  5.753\n",
       "882925  14838  281  58.364608  26.905817    3  5.455\n",
       "882926  14839  281  58.364616  26.905801    3  4.635\n",
       "\n",
       "[882927 rows x 6 columns]"
      ]
     },
     "execution_count": 3,
     "metadata": {},
     "output_type": "execute_result"
    }
   ],
   "source": [
    "df"
   ]
  },
  {
   "cell_type": "code",
   "execution_count": 11,
   "id": "commercial-numbers",
   "metadata": {},
   "outputs": [],
   "source": [
    "# Convert Geodedic latitude/logitude (WGS84 datum) to metric Spherical Pseudo-Mercator\n",
    "# More specifically, we perform coordinate reference system (CRS) conversion from EPSG:4326 to EPSG:3857\n",
    "geodedic2metric = pyproj.Transformer.from_crs(pyproj.CRS('EPSG:4326'), pyproj.CRS('EPSG:3857'))"
   ]
  },
  {
   "cell_type": "markdown",
   "id": "ongoing-montana",
   "metadata": {},
   "source": [
    "<div class=\"alert alert-block alert-danger\">\n",
    "    <b>Task002:</b> Convert to metric coordinates using predefine CRS convertor\n",
    "</div>"
   ]
  },
  {
   "cell_type": "code",
   "execution_count": 16,
   "id": "respiratory-penguin",
   "metadata": {},
   "outputs": [],
   "source": [
    "df['x'],df['y'] = geodedic2metric.transform(*df[['lon','lat']].values.T)"
   ]
  },
  {
   "cell_type": "markdown",
   "id": "printable-gibraltar",
   "metadata": {},
   "source": [
    "<div class=\"alert alert-block alert-info\">\n",
    "<b>Task002 verification:</b> The data should be as follows\n",
    "</div>"
   ]
  },
  {
   "cell_type": "code",
   "execution_count": 19,
   "id": "religious-aurora",
   "metadata": {},
   "outputs": [
    {
     "data": {
      "text/html": [
       "<div>\n",
       "<style scoped>\n",
       "    .dataframe tbody tr th:only-of-type {\n",
       "        vertical-align: middle;\n",
       "    }\n",
       "\n",
       "    .dataframe tbody tr th {\n",
       "        vertical-align: top;\n",
       "    }\n",
       "\n",
       "    .dataframe thead th {\n",
       "        text-align: right;\n",
       "    }\n",
       "</style>\n",
       "<table border=\"1\" class=\"dataframe\">\n",
       "  <thead>\n",
       "    <tr style=\"text-align: right;\">\n",
       "      <th></th>\n",
       "      <th>epoch</th>\n",
       "      <th>id</th>\n",
       "      <th>lat</th>\n",
       "      <th>lon</th>\n",
       "      <th>mod</th>\n",
       "      <th>speed</th>\n",
       "      <th>x</th>\n",
       "      <th>y</th>\n",
       "    </tr>\n",
       "  </thead>\n",
       "  <tbody>\n",
       "    <tr>\n",
       "      <th>7</th>\n",
       "      <td>1</td>\n",
       "      <td>0</td>\n",
       "      <td>58.341532</td>\n",
       "      <td>26.717204</td>\n",
       "      <td>0</td>\n",
       "      <td>0.000</td>\n",
       "      <td>6.494550e+06</td>\n",
       "      <td>3.088184e+06</td>\n",
       "    </tr>\n",
       "    <tr>\n",
       "      <th>548</th>\n",
       "      <td>2</td>\n",
       "      <td>0</td>\n",
       "      <td>58.341532</td>\n",
       "      <td>26.717216</td>\n",
       "      <td>0</td>\n",
       "      <td>2.640</td>\n",
       "      <td>6.494550e+06</td>\n",
       "      <td>3.088186e+06</td>\n",
       "    </tr>\n",
       "    <tr>\n",
       "      <th>1091</th>\n",
       "      <td>3</td>\n",
       "      <td>0</td>\n",
       "      <td>58.341532</td>\n",
       "      <td>26.717244</td>\n",
       "      <td>0</td>\n",
       "      <td>5.955</td>\n",
       "      <td>6.494550e+06</td>\n",
       "      <td>3.088189e+06</td>\n",
       "    </tr>\n",
       "    <tr>\n",
       "      <th>1637</th>\n",
       "      <td>4</td>\n",
       "      <td>0</td>\n",
       "      <td>58.341532</td>\n",
       "      <td>26.717291</td>\n",
       "      <td>0</td>\n",
       "      <td>9.796</td>\n",
       "      <td>6.494550e+06</td>\n",
       "      <td>3.088195e+06</td>\n",
       "    </tr>\n",
       "    <tr>\n",
       "      <th>2186</th>\n",
       "      <td>5</td>\n",
       "      <td>0</td>\n",
       "      <td>58.341532</td>\n",
       "      <td>26.717350</td>\n",
       "      <td>0</td>\n",
       "      <td>12.371</td>\n",
       "      <td>6.494550e+06</td>\n",
       "      <td>3.088203e+06</td>\n",
       "    </tr>\n",
       "    <tr>\n",
       "      <th>...</th>\n",
       "      <td>...</td>\n",
       "      <td>...</td>\n",
       "      <td>...</td>\n",
       "      <td>...</td>\n",
       "      <td>...</td>\n",
       "      <td>...</td>\n",
       "      <td>...</td>\n",
       "      <td>...</td>\n",
       "    </tr>\n",
       "    <tr>\n",
       "      <th>469592</th>\n",
       "      <td>1201</td>\n",
       "      <td>0</td>\n",
       "      <td>58.346061</td>\n",
       "      <td>26.787984</td>\n",
       "      <td>0</td>\n",
       "      <td>18.936</td>\n",
       "      <td>6.495054e+06</td>\n",
       "      <td>3.097008e+06</td>\n",
       "    </tr>\n",
       "    <tr>\n",
       "      <th>469794</th>\n",
       "      <td>1202</td>\n",
       "      <td>0</td>\n",
       "      <td>58.346102</td>\n",
       "      <td>26.787934</td>\n",
       "      <td>0</td>\n",
       "      <td>19.565</td>\n",
       "      <td>6.495058e+06</td>\n",
       "      <td>3.097002e+06</td>\n",
       "    </tr>\n",
       "    <tr>\n",
       "      <th>469996</th>\n",
       "      <td>1203</td>\n",
       "      <td>0</td>\n",
       "      <td>58.346140</td>\n",
       "      <td>26.787887</td>\n",
       "      <td>0</td>\n",
       "      <td>18.011</td>\n",
       "      <td>6.495063e+06</td>\n",
       "      <td>3.096996e+06</td>\n",
       "    </tr>\n",
       "    <tr>\n",
       "      <th>470198</th>\n",
       "      <td>1204</td>\n",
       "      <td>0</td>\n",
       "      <td>58.346177</td>\n",
       "      <td>26.787841</td>\n",
       "      <td>0</td>\n",
       "      <td>17.848</td>\n",
       "      <td>6.495067e+06</td>\n",
       "      <td>3.096990e+06</td>\n",
       "    </tr>\n",
       "    <tr>\n",
       "      <th>470400</th>\n",
       "      <td>1205</td>\n",
       "      <td>0</td>\n",
       "      <td>58.346218</td>\n",
       "      <td>26.787791</td>\n",
       "      <td>0</td>\n",
       "      <td>19.348</td>\n",
       "      <td>6.495071e+06</td>\n",
       "      <td>3.096984e+06</td>\n",
       "    </tr>\n",
       "  </tbody>\n",
       "</table>\n",
       "<p>1205 rows × 8 columns</p>\n",
       "</div>"
      ],
      "text/plain": [
       "        epoch  id        lat        lon  mod   speed             x  \\\n",
       "7           1   0  58.341532  26.717204    0   0.000  6.494550e+06   \n",
       "548         2   0  58.341532  26.717216    0   2.640  6.494550e+06   \n",
       "1091        3   0  58.341532  26.717244    0   5.955  6.494550e+06   \n",
       "1637        4   0  58.341532  26.717291    0   9.796  6.494550e+06   \n",
       "2186        5   0  58.341532  26.717350    0  12.371  6.494550e+06   \n",
       "...       ...  ..        ...        ...  ...     ...           ...   \n",
       "469592   1201   0  58.346061  26.787984    0  18.936  6.495054e+06   \n",
       "469794   1202   0  58.346102  26.787934    0  19.565  6.495058e+06   \n",
       "469996   1203   0  58.346140  26.787887    0  18.011  6.495063e+06   \n",
       "470198   1204   0  58.346177  26.787841    0  17.848  6.495067e+06   \n",
       "470400   1205   0  58.346218  26.787791    0  19.348  6.495071e+06   \n",
       "\n",
       "                   y  \n",
       "7       3.088184e+06  \n",
       "548     3.088186e+06  \n",
       "1091    3.088189e+06  \n",
       "1637    3.088195e+06  \n",
       "2186    3.088203e+06  \n",
       "...              ...  \n",
       "469592  3.097008e+06  \n",
       "469794  3.097002e+06  \n",
       "469996  3.096996e+06  \n",
       "470198  3.096990e+06  \n",
       "470400  3.096984e+06  \n",
       "\n",
       "[1205 rows x 8 columns]"
      ]
     },
     "execution_count": 19,
     "metadata": {},
     "output_type": "execute_result"
    }
   ],
   "source": [
    "df[df.id == 0]"
   ]
  },
  {
   "cell_type": "markdown",
   "id": "stopped-ordinary",
   "metadata": {},
   "source": [
    "<div class=\"alert alert-block alert-danger\">\n",
    "    <b>Task003:</b> Group the data by id, aggreagate the following columns:\n",
    "</div>"
   ]
  },
  {
   "cell_type": "markdown",
   "id": "aggregate-tournament",
   "metadata": {},
   "source": [
    "* mod\n",
    "* total travel time\n",
    "* minimal velocity\n",
    "* maximal velocity\n",
    "* mean velocity\n",
    "* total travel distance"
   ]
  },
  {
   "cell_type": "code",
   "execution_count": 183,
   "id": "beautiful-individual",
   "metadata": {},
   "outputs": [
    {
     "name": "stdout",
     "output_type": "stream",
     "text": [
      "CPU times: user 1.36 s, sys: 29.5 ms, total: 1.39 s\n",
      "Wall time: 1.41 s\n"
     ]
    }
   ],
   "source": [
    "%%time\n",
    "df_dataset = df.groupby('id').apply(lambda df_gid: \n",
    "        pd.DataFrame(\n",
    "        {\n",
    "         'mod': np.unique(df_gid['mod'].values),\n",
    "         'travel_time': np.max(df_gid['epoch'].values),\n",
    "         'min_vel': np.min(df_gid['speed'].values),\n",
    "         'max_vel': np.max(df_gid['speed'].values),\n",
    "         'mean_vel': np.mean(df_gid['speed'].values),\n",
    "         'std_vel': np.std(df_gid['speed'].values),\n",
    "         'travel_dist': np.sum(np.sqrt(np.sum((df_gid[['x','y']].values[1:]-\\\n",
    "                                              df_gid[['x','y']].values[:-1])**2,axis=1)))\n",
    "        }))"
   ]
  },
  {
   "cell_type": "code",
   "execution_count": 141,
   "id": "difficult-queensland",
   "metadata": {},
   "outputs": [
    {
     "data": {
      "image/png": "[encoded data removed]",
      "text/plain": [
       "<Figure size 864x288 with 1 Axes>"
      ]
     },
     "metadata": {
      "needs_background": "light"
     },
     "output_type": "display_data"
    }
   ],
   "source": [
    "fig = plt.figure()\n",
    "fig.set_figwidth(12)\n",
    "\n",
    "plt.boxplot([df_dataset[df_dataset['mod'] == m]['max_vel'] for m in range(7)], vert=False)\n",
    "\n",
    "plt.xlabel('Speed')\n",
    "plt.grid()"
   ]
  },
  {
   "cell_type": "code",
   "execution_count": 32,
   "id": "worth-broadway",
   "metadata": {},
   "outputs": [],
   "source": [
    "df_dataset = df_dataset.set_index(np.asarray(list(df_dataset.index))[:,0])"
   ]
  },
  {
   "cell_type": "code",
   "execution_count": 33,
   "id": "south-carter",
   "metadata": {},
   "outputs": [
    {
     "data": {
      "text/html": [
       "<div>\n",
       "<style scoped>\n",
       "    .dataframe tbody tr th:only-of-type {\n",
       "        vertical-align: middle;\n",
       "    }\n",
       "\n",
       "    .dataframe tbody tr th {\n",
       "        vertical-align: top;\n",
       "    }\n",
       "\n",
       "    .dataframe thead th {\n",
       "        text-align: right;\n",
       "    }\n",
       "</style>\n",
       "<table border=\"1\" class=\"dataframe\">\n",
       "  <thead>\n",
       "    <tr style=\"text-align: right;\">\n",
       "      <th></th>\n",
       "      <th>mod</th>\n",
       "      <th>travel_time</th>\n",
       "      <th>min_vel</th>\n",
       "      <th>max_vel</th>\n",
       "      <th>mean_vel</th>\n",
       "      <th>std_vel</th>\n",
       "      <th>travel_dist</th>\n",
       "    </tr>\n",
       "  </thead>\n",
       "  <tbody>\n",
       "    <tr>\n",
       "      <th>0</th>\n",
       "      <td>0</td>\n",
       "      <td>1205</td>\n",
       "      <td>0.0</td>\n",
       "      <td>20.000</td>\n",
       "      <td>17.750343</td>\n",
       "      <td>4.367425</td>\n",
       "      <td>10480.796299</td>\n",
       "    </tr>\n",
       "    <tr>\n",
       "      <th>1</th>\n",
       "      <td>0</td>\n",
       "      <td>1789</td>\n",
       "      <td>0.0</td>\n",
       "      <td>20.000</td>\n",
       "      <td>18.216340</td>\n",
       "      <td>2.832486</td>\n",
       "      <td>15408.782319</td>\n",
       "    </tr>\n",
       "    <tr>\n",
       "      <th>2</th>\n",
       "      <td>0</td>\n",
       "      <td>611</td>\n",
       "      <td>0.0</td>\n",
       "      <td>19.993</td>\n",
       "      <td>18.659462</td>\n",
       "      <td>1.553506</td>\n",
       "      <td>5504.669279</td>\n",
       "    </tr>\n",
       "    <tr>\n",
       "      <th>3</th>\n",
       "      <td>0</td>\n",
       "      <td>3254</td>\n",
       "      <td>0.0</td>\n",
       "      <td>20.000</td>\n",
       "      <td>7.300061</td>\n",
       "      <td>9.149739</td>\n",
       "      <td>8281.693943</td>\n",
       "    </tr>\n",
       "    <tr>\n",
       "      <th>4</th>\n",
       "      <td>0</td>\n",
       "      <td>1265</td>\n",
       "      <td>0.0</td>\n",
       "      <td>20.000</td>\n",
       "      <td>17.595126</td>\n",
       "      <td>4.489754</td>\n",
       "      <td>10494.094571</td>\n",
       "    </tr>\n",
       "    <tr>\n",
       "      <th>...</th>\n",
       "      <td>...</td>\n",
       "      <td>...</td>\n",
       "      <td>...</td>\n",
       "      <td>...</td>\n",
       "      <td>...</td>\n",
       "      <td>...</td>\n",
       "      <td>...</td>\n",
       "    </tr>\n",
       "    <tr>\n",
       "      <th>549</th>\n",
       "      <td>7</td>\n",
       "      <td>2259</td>\n",
       "      <td>0.0</td>\n",
       "      <td>87.188</td>\n",
       "      <td>18.138672</td>\n",
       "      <td>18.144401</td>\n",
       "      <td>21220.709888</td>\n",
       "    </tr>\n",
       "    <tr>\n",
       "      <th>550</th>\n",
       "      <td>7</td>\n",
       "      <td>166</td>\n",
       "      <td>0.0</td>\n",
       "      <td>48.411</td>\n",
       "      <td>38.537584</td>\n",
       "      <td>12.824008</td>\n",
       "      <td>2671.619448</td>\n",
       "    </tr>\n",
       "    <tr>\n",
       "      <th>551</th>\n",
       "      <td>7</td>\n",
       "      <td>791</td>\n",
       "      <td>0.0</td>\n",
       "      <td>98.241</td>\n",
       "      <td>41.715863</td>\n",
       "      <td>21.745713</td>\n",
       "      <td>16267.474569</td>\n",
       "    </tr>\n",
       "    <tr>\n",
       "      <th>552</th>\n",
       "      <td>7</td>\n",
       "      <td>502</td>\n",
       "      <td>0.0</td>\n",
       "      <td>56.739</td>\n",
       "      <td>34.618006</td>\n",
       "      <td>22.538432</td>\n",
       "      <td>8300.671100</td>\n",
       "    </tr>\n",
       "    <tr>\n",
       "      <th>553</th>\n",
       "      <td>7</td>\n",
       "      <td>1316</td>\n",
       "      <td>0.0</td>\n",
       "      <td>94.511</td>\n",
       "      <td>30.848201</td>\n",
       "      <td>25.754855</td>\n",
       "      <td>20675.080360</td>\n",
       "    </tr>\n",
       "  </tbody>\n",
       "</table>\n",
       "<p>554 rows × 7 columns</p>\n",
       "</div>"
      ],
      "text/plain": [
       "     mod  travel_time  min_vel  max_vel   mean_vel    std_vel   travel_dist\n",
       "0      0         1205      0.0   20.000  17.750343   4.367425  10480.796299\n",
       "1      0         1789      0.0   20.000  18.216340   2.832486  15408.782319\n",
       "2      0          611      0.0   19.993  18.659462   1.553506   5504.669279\n",
       "3      0         3254      0.0   20.000   7.300061   9.149739   8281.693943\n",
       "4      0         1265      0.0   20.000  17.595126   4.489754  10494.094571\n",
       "..   ...          ...      ...      ...        ...        ...           ...\n",
       "549    7         2259      0.0   87.188  18.138672  18.144401  21220.709888\n",
       "550    7          166      0.0   48.411  38.537584  12.824008   2671.619448\n",
       "551    7          791      0.0   98.241  41.715863  21.745713  16267.474569\n",
       "552    7          502      0.0   56.739  34.618006  22.538432   8300.671100\n",
       "553    7         1316      0.0   94.511  30.848201  25.754855  20675.080360\n",
       "\n",
       "[554 rows x 7 columns]"
      ]
     },
     "execution_count": 33,
     "metadata": {},
     "output_type": "execute_result"
    }
   ],
   "source": [
    "df_dataset"
   ]
  },
  {
   "cell_type": "code",
   "execution_count": 61,
   "id": "ongoing-begin",
   "metadata": {},
   "outputs": [
    {
     "data": {
      "text/html": [
       "<div>\n",
       "<style scoped>\n",
       "    .dataframe tbody tr th:only-of-type {\n",
       "        vertical-align: middle;\n",
       "    }\n",
       "\n",
       "    .dataframe tbody tr th {\n",
       "        vertical-align: top;\n",
       "    }\n",
       "\n",
       "    .dataframe thead th {\n",
       "        text-align: right;\n",
       "    }\n",
       "</style>\n",
       "<table border=\"1\" class=\"dataframe\">\n",
       "  <thead>\n",
       "    <tr style=\"text-align: right;\">\n",
       "      <th></th>\n",
       "      <th>travel_time</th>\n",
       "      <th>travel_dist</th>\n",
       "    </tr>\n",
       "  </thead>\n",
       "  <tbody>\n",
       "    <tr>\n",
       "      <th>travel_time</th>\n",
       "      <td>1.000000</td>\n",
       "      <td>0.373179</td>\n",
       "    </tr>\n",
       "    <tr>\n",
       "      <th>travel_dist</th>\n",
       "      <td>0.373179</td>\n",
       "      <td>1.000000</td>\n",
       "    </tr>\n",
       "  </tbody>\n",
       "</table>\n",
       "</div>"
      ],
      "text/plain": [
       "             travel_time  travel_dist\n",
       "travel_time     1.000000     0.373179\n",
       "travel_dist     0.373179     1.000000"
      ]
     },
     "execution_count": 61,
     "metadata": {},
     "output_type": "execute_result"
    }
   ],
   "source": [
    "df_dataset[['travel_time','travel_dist']].corr()"
   ]
  },
  {
   "cell_type": "markdown",
   "id": "balanced-opening",
   "metadata": {},
   "source": [
    "<div class=\"alert alert-block alert-danger\">\n",
    "    <b>Task004:</b> Shuffle the dataset\n",
    "</div>"
   ]
  },
  {
   "cell_type": "code",
   "execution_count": 37,
   "id": "growing-aaron",
   "metadata": {},
   "outputs": [
    {
     "data": {
      "text/html": [
       "<div>\n",
       "<style scoped>\n",
       "    .dataframe tbody tr th:only-of-type {\n",
       "        vertical-align: middle;\n",
       "    }\n",
       "\n",
       "    .dataframe tbody tr th {\n",
       "        vertical-align: top;\n",
       "    }\n",
       "\n",
       "    .dataframe thead th {\n",
       "        text-align: right;\n",
       "    }\n",
       "</style>\n",
       "<table border=\"1\" class=\"dataframe\">\n",
       "  <thead>\n",
       "    <tr style=\"text-align: right;\">\n",
       "      <th></th>\n",
       "      <th>mod</th>\n",
       "      <th>travel_time</th>\n",
       "      <th>min_vel</th>\n",
       "      <th>max_vel</th>\n",
       "      <th>mean_vel</th>\n",
       "      <th>std_vel</th>\n",
       "      <th>travel_dist</th>\n",
       "    </tr>\n",
       "  </thead>\n",
       "  <tbody>\n",
       "    <tr>\n",
       "      <th>417</th>\n",
       "      <td>7</td>\n",
       "      <td>633</td>\n",
       "      <td>0.0</td>\n",
       "      <td>79.267</td>\n",
       "      <td>49.399659</td>\n",
       "      <td>16.514392</td>\n",
       "      <td>14479.738028</td>\n",
       "    </tr>\n",
       "    <tr>\n",
       "      <th>257</th>\n",
       "      <td>3</td>\n",
       "      <td>2404</td>\n",
       "      <td>0.0</td>\n",
       "      <td>5.536</td>\n",
       "      <td>4.956520</td>\n",
       "      <td>0.461378</td>\n",
       "      <td>5483.936887</td>\n",
       "    </tr>\n",
       "    <tr>\n",
       "      <th>271</th>\n",
       "      <td>3</td>\n",
       "      <td>3457</td>\n",
       "      <td>0.0</td>\n",
       "      <td>4.913</td>\n",
       "      <td>4.383044</td>\n",
       "      <td>0.473912</td>\n",
       "      <td>5904.617224</td>\n",
       "    </tr>\n",
       "    <tr>\n",
       "      <th>400</th>\n",
       "      <td>7</td>\n",
       "      <td>1426</td>\n",
       "      <td>0.0</td>\n",
       "      <td>84.087</td>\n",
       "      <td>27.777694</td>\n",
       "      <td>23.016756</td>\n",
       "      <td>20004.038252</td>\n",
       "    </tr>\n",
       "    <tr>\n",
       "      <th>264</th>\n",
       "      <td>3</td>\n",
       "      <td>6815</td>\n",
       "      <td>0.0</td>\n",
       "      <td>4.378</td>\n",
       "      <td>3.918809</td>\n",
       "      <td>0.363983</td>\n",
       "      <td>12379.579504</td>\n",
       "    </tr>\n",
       "    <tr>\n",
       "      <th>...</th>\n",
       "      <td>...</td>\n",
       "      <td>...</td>\n",
       "      <td>...</td>\n",
       "      <td>...</td>\n",
       "      <td>...</td>\n",
       "      <td>...</td>\n",
       "      <td>...</td>\n",
       "    </tr>\n",
       "    <tr>\n",
       "      <th>12</th>\n",
       "      <td>0</td>\n",
       "      <td>1297</td>\n",
       "      <td>0.0</td>\n",
       "      <td>19.998</td>\n",
       "      <td>18.767711</td>\n",
       "      <td>1.175904</td>\n",
       "      <td>11730.110272</td>\n",
       "    </tr>\n",
       "    <tr>\n",
       "      <th>518</th>\n",
       "      <td>7</td>\n",
       "      <td>230</td>\n",
       "      <td>0.0</td>\n",
       "      <td>52.224</td>\n",
       "      <td>28.326257</td>\n",
       "      <td>19.798309</td>\n",
       "      <td>3175.809580</td>\n",
       "    </tr>\n",
       "    <tr>\n",
       "      <th>130</th>\n",
       "      <td>2</td>\n",
       "      <td>310</td>\n",
       "      <td>0.0</td>\n",
       "      <td>57.556</td>\n",
       "      <td>32.195026</td>\n",
       "      <td>17.282598</td>\n",
       "      <td>4228.859372</td>\n",
       "    </tr>\n",
       "    <tr>\n",
       "      <th>267</th>\n",
       "      <td>3</td>\n",
       "      <td>5684</td>\n",
       "      <td>0.0</td>\n",
       "      <td>4.447</td>\n",
       "      <td>3.864577</td>\n",
       "      <td>0.755387</td>\n",
       "      <td>7797.797871</td>\n",
       "    </tr>\n",
       "    <tr>\n",
       "      <th>73</th>\n",
       "      <td>0</td>\n",
       "      <td>1540</td>\n",
       "      <td>0.0</td>\n",
       "      <td>20.000</td>\n",
       "      <td>17.789465</td>\n",
       "      <td>4.117535</td>\n",
       "      <td>12448.835967</td>\n",
       "    </tr>\n",
       "  </tbody>\n",
       "</table>\n",
       "<p>554 rows × 7 columns</p>\n",
       "</div>"
      ],
      "text/plain": [
       "     mod  travel_time  min_vel  max_vel   mean_vel    std_vel   travel_dist\n",
       "417    7          633      0.0   79.267  49.399659  16.514392  14479.738028\n",
       "257    3         2404      0.0    5.536   4.956520   0.461378   5483.936887\n",
       "271    3         3457      0.0    4.913   4.383044   0.473912   5904.617224\n",
       "400    7         1426      0.0   84.087  27.777694  23.016756  20004.038252\n",
       "264    3         6815      0.0    4.378   3.918809   0.363983  12379.579504\n",
       "..   ...          ...      ...      ...        ...        ...           ...\n",
       "12     0         1297      0.0   19.998  18.767711   1.175904  11730.110272\n",
       "518    7          230      0.0   52.224  28.326257  19.798309   3175.809580\n",
       "130    2          310      0.0   57.556  32.195026  17.282598   4228.859372\n",
       "267    3         5684      0.0    4.447   3.864577   0.755387   7797.797871\n",
       "73     0         1540      0.0   20.000  17.789465   4.117535  12448.835967\n",
       "\n",
       "[554 rows x 7 columns]"
      ]
     },
     "execution_count": 37,
     "metadata": {},
     "output_type": "execute_result"
    }
   ],
   "source": [
    "np_order = df_dataset.index.values\n",
    "np.random.shuffle(np_order)\n",
    "df_dataset.loc[np_order]"
   ]
  },
  {
   "cell_type": "code",
   "execution_count": 42,
   "id": "mental-friendship",
   "metadata": {},
   "outputs": [],
   "source": [
    "# Split into training / tersting (80/20)\n",
    "n_training = int(len(df_dataset) * .8)\n",
    "n_testing = len(df_dataset)-n_training"
   ]
  },
  {
   "cell_type": "code",
   "execution_count": 41,
   "id": "frozen-acting",
   "metadata": {},
   "outputs": [
    {
     "data": {
      "text/plain": [
       "(387, 167)"
      ]
     },
     "execution_count": 41,
     "metadata": {},
     "output_type": "execute_result"
    }
   ],
   "source": [
    "n_training, n_testing"
   ]
  },
  {
   "cell_type": "code",
   "execution_count": 43,
   "id": "treated-article",
   "metadata": {},
   "outputs": [
    {
     "data": {
      "text/plain": [
       "array([79.96389892, 20.03610108])"
      ]
     },
     "execution_count": 43,
     "metadata": {},
     "output_type": "execute_result"
    }
   ],
   "source": [
    "np.asarray([n_training, n_testing]).astype(np.float64) / np.sum([n_training, n_testing]) * 100."
   ]
  },
  {
   "cell_type": "code",
   "execution_count": 44,
   "id": "white-cartridge",
   "metadata": {},
   "outputs": [],
   "source": [
    "df_training = df_dataset.loc[np_order][:n_training]\n",
    "df_testing = df_dataset.loc[np_order][n_training:]"
   ]
  },
  {
   "cell_type": "code",
   "execution_count": 45,
   "id": "empirical-genius",
   "metadata": {},
   "outputs": [
    {
     "data": {
      "text/html": [
       "<div>\n",
       "<style scoped>\n",
       "    .dataframe tbody tr th:only-of-type {\n",
       "        vertical-align: middle;\n",
       "    }\n",
       "\n",
       "    .dataframe tbody tr th {\n",
       "        vertical-align: top;\n",
       "    }\n",
       "\n",
       "    .dataframe thead th {\n",
       "        text-align: right;\n",
       "    }\n",
       "</style>\n",
       "<table border=\"1\" class=\"dataframe\">\n",
       "  <thead>\n",
       "    <tr style=\"text-align: right;\">\n",
       "      <th></th>\n",
       "      <th>mod</th>\n",
       "      <th>travel_time</th>\n",
       "      <th>min_vel</th>\n",
       "      <th>max_vel</th>\n",
       "      <th>mean_vel</th>\n",
       "      <th>std_vel</th>\n",
       "      <th>travel_dist</th>\n",
       "    </tr>\n",
       "  </thead>\n",
       "  <tbody>\n",
       "    <tr>\n",
       "      <th>417</th>\n",
       "      <td>7</td>\n",
       "      <td>633</td>\n",
       "      <td>0.0</td>\n",
       "      <td>79.267</td>\n",
       "      <td>49.399659</td>\n",
       "      <td>16.514392</td>\n",
       "      <td>14479.738028</td>\n",
       "    </tr>\n",
       "    <tr>\n",
       "      <th>257</th>\n",
       "      <td>3</td>\n",
       "      <td>2404</td>\n",
       "      <td>0.0</td>\n",
       "      <td>5.536</td>\n",
       "      <td>4.956520</td>\n",
       "      <td>0.461378</td>\n",
       "      <td>5483.936887</td>\n",
       "    </tr>\n",
       "    <tr>\n",
       "      <th>271</th>\n",
       "      <td>3</td>\n",
       "      <td>3457</td>\n",
       "      <td>0.0</td>\n",
       "      <td>4.913</td>\n",
       "      <td>4.383044</td>\n",
       "      <td>0.473912</td>\n",
       "      <td>5904.617224</td>\n",
       "    </tr>\n",
       "    <tr>\n",
       "      <th>400</th>\n",
       "      <td>7</td>\n",
       "      <td>1426</td>\n",
       "      <td>0.0</td>\n",
       "      <td>84.087</td>\n",
       "      <td>27.777694</td>\n",
       "      <td>23.016756</td>\n",
       "      <td>20004.038252</td>\n",
       "    </tr>\n",
       "    <tr>\n",
       "      <th>264</th>\n",
       "      <td>3</td>\n",
       "      <td>6815</td>\n",
       "      <td>0.0</td>\n",
       "      <td>4.378</td>\n",
       "      <td>3.918809</td>\n",
       "      <td>0.363983</td>\n",
       "      <td>12379.579504</td>\n",
       "    </tr>\n",
       "    <tr>\n",
       "      <th>...</th>\n",
       "      <td>...</td>\n",
       "      <td>...</td>\n",
       "      <td>...</td>\n",
       "      <td>...</td>\n",
       "      <td>...</td>\n",
       "      <td>...</td>\n",
       "      <td>...</td>\n",
       "    </tr>\n",
       "    <tr>\n",
       "      <th>344</th>\n",
       "      <td>6</td>\n",
       "      <td>2297</td>\n",
       "      <td>0.0</td>\n",
       "      <td>83.910</td>\n",
       "      <td>21.973984</td>\n",
       "      <td>23.464803</td>\n",
       "      <td>25872.227373</td>\n",
       "    </tr>\n",
       "    <tr>\n",
       "      <th>131</th>\n",
       "      <td>2</td>\n",
       "      <td>2888</td>\n",
       "      <td>0.0</td>\n",
       "      <td>72.239</td>\n",
       "      <td>6.450491</td>\n",
       "      <td>16.508208</td>\n",
       "      <td>8015.668126</td>\n",
       "    </tr>\n",
       "    <tr>\n",
       "      <th>507</th>\n",
       "      <td>7</td>\n",
       "      <td>1442</td>\n",
       "      <td>0.0</td>\n",
       "      <td>88.839</td>\n",
       "      <td>42.437743</td>\n",
       "      <td>24.205381</td>\n",
       "      <td>30483.600394</td>\n",
       "    </tr>\n",
       "    <tr>\n",
       "      <th>196</th>\n",
       "      <td>2</td>\n",
       "      <td>1065</td>\n",
       "      <td>0.0</td>\n",
       "      <td>45.784</td>\n",
       "      <td>30.266338</td>\n",
       "      <td>15.198733</td>\n",
       "      <td>12927.670881</td>\n",
       "    </tr>\n",
       "    <tr>\n",
       "      <th>145</th>\n",
       "      <td>2</td>\n",
       "      <td>824</td>\n",
       "      <td>0.0</td>\n",
       "      <td>47.669</td>\n",
       "      <td>22.702586</td>\n",
       "      <td>15.638897</td>\n",
       "      <td>8967.150341</td>\n",
       "    </tr>\n",
       "  </tbody>\n",
       "</table>\n",
       "<p>443 rows × 7 columns</p>\n",
       "</div>"
      ],
      "text/plain": [
       "     mod  travel_time  min_vel  max_vel   mean_vel    std_vel   travel_dist\n",
       "417    7          633      0.0   79.267  49.399659  16.514392  14479.738028\n",
       "257    3         2404      0.0    5.536   4.956520   0.461378   5483.936887\n",
       "271    3         3457      0.0    4.913   4.383044   0.473912   5904.617224\n",
       "400    7         1426      0.0   84.087  27.777694  23.016756  20004.038252\n",
       "264    3         6815      0.0    4.378   3.918809   0.363983  12379.579504\n",
       "..   ...          ...      ...      ...        ...        ...           ...\n",
       "344    6         2297      0.0   83.910  21.973984  23.464803  25872.227373\n",
       "131    2         2888      0.0   72.239   6.450491  16.508208   8015.668126\n",
       "507    7         1442      0.0   88.839  42.437743  24.205381  30483.600394\n",
       "196    2         1065      0.0   45.784  30.266338  15.198733  12927.670881\n",
       "145    2          824      0.0   47.669  22.702586  15.638897   8967.150341\n",
       "\n",
       "[443 rows x 7 columns]"
      ]
     },
     "execution_count": 45,
     "metadata": {},
     "output_type": "execute_result"
    }
   ],
   "source": [
    "df_training"
   ]
  },
  {
   "cell_type": "code",
   "execution_count": 49,
   "id": "representative-production",
   "metadata": {},
   "outputs": [
    {
     "data": {
      "text/plain": [
       "mod\n",
       "0    15.801354\n",
       "1     3.611738\n",
       "2    17.155756\n",
       "3    16.252822\n",
       "4     0.902935\n",
       "5     0.902935\n",
       "6    10.158014\n",
       "7    35.214447\n",
       "Name: mod, dtype: float64"
      ]
     },
     "execution_count": 49,
     "metadata": {},
     "output_type": "execute_result"
    }
   ],
   "source": [
    "df_training.groupby('mod').mod.count() / np.sum(df_training.groupby('mod').mod.count()) * 100."
   ]
  },
  {
   "cell_type": "code",
   "execution_count": 184,
   "id": "chicken-polish",
   "metadata": {},
   "outputs": [
    {
     "data": {
      "text/plain": [
       "3.0"
      ]
     },
     "execution_count": 184,
     "metadata": {},
     "output_type": "execute_result"
    }
   ],
   "source": [
    "24. / 8"
   ]
  },
  {
   "cell_type": "code",
   "execution_count": 46,
   "id": "included-talent",
   "metadata": {},
   "outputs": [
    {
     "data": {
      "text/html": [
       "<div>\n",
       "<style scoped>\n",
       "    .dataframe tbody tr th:only-of-type {\n",
       "        vertical-align: middle;\n",
       "    }\n",
       "\n",
       "    .dataframe tbody tr th {\n",
       "        vertical-align: top;\n",
       "    }\n",
       "\n",
       "    .dataframe thead th {\n",
       "        text-align: right;\n",
       "    }\n",
       "</style>\n",
       "<table border=\"1\" class=\"dataframe\">\n",
       "  <thead>\n",
       "    <tr style=\"text-align: right;\">\n",
       "      <th></th>\n",
       "      <th>mod</th>\n",
       "      <th>travel_time</th>\n",
       "      <th>min_vel</th>\n",
       "      <th>max_vel</th>\n",
       "      <th>mean_vel</th>\n",
       "      <th>std_vel</th>\n",
       "      <th>travel_dist</th>\n",
       "    </tr>\n",
       "  </thead>\n",
       "  <tbody>\n",
       "    <tr>\n",
       "      <th>498</th>\n",
       "      <td>7</td>\n",
       "      <td>566</td>\n",
       "      <td>0.0</td>\n",
       "      <td>81.551</td>\n",
       "      <td>44.084410</td>\n",
       "      <td>16.798950</td>\n",
       "      <td>11335.186425</td>\n",
       "    </tr>\n",
       "    <tr>\n",
       "      <th>248</th>\n",
       "      <td>3</td>\n",
       "      <td>9978</td>\n",
       "      <td>0.0</td>\n",
       "      <td>5.241</td>\n",
       "      <td>4.714979</td>\n",
       "      <td>0.320801</td>\n",
       "      <td>20637.108157</td>\n",
       "    </tr>\n",
       "    <tr>\n",
       "      <th>223</th>\n",
       "      <td>3</td>\n",
       "      <td>2473</td>\n",
       "      <td>0.0</td>\n",
       "      <td>4.966</td>\n",
       "      <td>4.381474</td>\n",
       "      <td>0.691105</td>\n",
       "      <td>4463.031523</td>\n",
       "    </tr>\n",
       "    <tr>\n",
       "      <th>549</th>\n",
       "      <td>7</td>\n",
       "      <td>2259</td>\n",
       "      <td>0.0</td>\n",
       "      <td>87.188</td>\n",
       "      <td>18.138672</td>\n",
       "      <td>18.144401</td>\n",
       "      <td>21220.709888</td>\n",
       "    </tr>\n",
       "    <tr>\n",
       "      <th>200</th>\n",
       "      <td>2</td>\n",
       "      <td>1052</td>\n",
       "      <td>0.0</td>\n",
       "      <td>48.553</td>\n",
       "      <td>23.528207</td>\n",
       "      <td>19.485897</td>\n",
       "      <td>11915.679983</td>\n",
       "    </tr>\n",
       "    <tr>\n",
       "      <th>...</th>\n",
       "      <td>...</td>\n",
       "      <td>...</td>\n",
       "      <td>...</td>\n",
       "      <td>...</td>\n",
       "      <td>...</td>\n",
       "      <td>...</td>\n",
       "      <td>...</td>\n",
       "    </tr>\n",
       "    <tr>\n",
       "      <th>12</th>\n",
       "      <td>0</td>\n",
       "      <td>1297</td>\n",
       "      <td>0.0</td>\n",
       "      <td>19.998</td>\n",
       "      <td>18.767711</td>\n",
       "      <td>1.175904</td>\n",
       "      <td>11730.110272</td>\n",
       "    </tr>\n",
       "    <tr>\n",
       "      <th>518</th>\n",
       "      <td>7</td>\n",
       "      <td>230</td>\n",
       "      <td>0.0</td>\n",
       "      <td>52.224</td>\n",
       "      <td>28.326257</td>\n",
       "      <td>19.798309</td>\n",
       "      <td>3175.809580</td>\n",
       "    </tr>\n",
       "    <tr>\n",
       "      <th>130</th>\n",
       "      <td>2</td>\n",
       "      <td>310</td>\n",
       "      <td>0.0</td>\n",
       "      <td>57.556</td>\n",
       "      <td>32.195026</td>\n",
       "      <td>17.282598</td>\n",
       "      <td>4228.859372</td>\n",
       "    </tr>\n",
       "    <tr>\n",
       "      <th>267</th>\n",
       "      <td>3</td>\n",
       "      <td>5684</td>\n",
       "      <td>0.0</td>\n",
       "      <td>4.447</td>\n",
       "      <td>3.864577</td>\n",
       "      <td>0.755387</td>\n",
       "      <td>7797.797871</td>\n",
       "    </tr>\n",
       "    <tr>\n",
       "      <th>73</th>\n",
       "      <td>0</td>\n",
       "      <td>1540</td>\n",
       "      <td>0.0</td>\n",
       "      <td>20.000</td>\n",
       "      <td>17.789465</td>\n",
       "      <td>4.117535</td>\n",
       "      <td>12448.835967</td>\n",
       "    </tr>\n",
       "  </tbody>\n",
       "</table>\n",
       "<p>111 rows × 7 columns</p>\n",
       "</div>"
      ],
      "text/plain": [
       "     mod  travel_time  min_vel  max_vel   mean_vel    std_vel   travel_dist\n",
       "498    7          566      0.0   81.551  44.084410  16.798950  11335.186425\n",
       "248    3         9978      0.0    5.241   4.714979   0.320801  20637.108157\n",
       "223    3         2473      0.0    4.966   4.381474   0.691105   4463.031523\n",
       "549    7         2259      0.0   87.188  18.138672  18.144401  21220.709888\n",
       "200    2         1052      0.0   48.553  23.528207  19.485897  11915.679983\n",
       "..   ...          ...      ...      ...        ...        ...           ...\n",
       "12     0         1297      0.0   19.998  18.767711   1.175904  11730.110272\n",
       "518    7          230      0.0   52.224  28.326257  19.798309   3175.809580\n",
       "130    2          310      0.0   57.556  32.195026  17.282598   4228.859372\n",
       "267    3         5684      0.0    4.447   3.864577   0.755387   7797.797871\n",
       "73     0         1540      0.0   20.000  17.789465   4.117535  12448.835967\n",
       "\n",
       "[111 rows x 7 columns]"
      ]
     },
     "execution_count": 46,
     "metadata": {},
     "output_type": "execute_result"
    }
   ],
   "source": [
    "df_testing"
   ]
  },
  {
   "cell_type": "code",
   "execution_count": 50,
   "id": "major-infection",
   "metadata": {},
   "outputs": [
    {
     "data": {
      "text/plain": [
       "mod\n",
       "0    20.720721\n",
       "1     3.603604\n",
       "2    18.018018\n",
       "3    15.315315\n",
       "4     0.900901\n",
       "6     3.603604\n",
       "7    37.837838\n",
       "Name: mod, dtype: float64"
      ]
     },
     "execution_count": 50,
     "metadata": {},
     "output_type": "execute_result"
    }
   ],
   "source": [
    "df_testing.groupby('mod').mod.count() / np.sum(df_testing.groupby('mod').mod.count()) * 100."
   ]
  },
  {
   "cell_type": "code",
   "execution_count": null,
   "id": "forbidden-green",
   "metadata": {},
   "outputs": [],
   "source": [
    "# Dataset is ready to perform supervised machine learning (ML)\n",
    "# Let's start with Naive Bayesian Classifier"
   ]
  },
  {
   "cell_type": "markdown",
   "id": "ordinary-coordinator",
   "metadata": {},
   "source": [
    "<div class=\"alert alert-block alert-danger\">\n",
    "    <b>Task005:</b> Summarize dataset by class (mod)\n",
    "    <p>Collect mean, max, min, count, std for each column!</p>\n",
    "</div>"
   ]
  },
  {
   "cell_type": "code",
   "execution_count": 142,
   "id": "abandoned-broadcasting",
   "metadata": {},
   "outputs": [
    {
     "data": {
      "text/html": [
       "<div>\n",
       "<style scoped>\n",
       "    .dataframe tbody tr th:only-of-type {\n",
       "        vertical-align: middle;\n",
       "    }\n",
       "\n",
       "    .dataframe tbody tr th {\n",
       "        vertical-align: top;\n",
       "    }\n",
       "\n",
       "    .dataframe thead tr th {\n",
       "        text-align: left;\n",
       "    }\n",
       "\n",
       "    .dataframe thead tr:last-of-type th {\n",
       "        text-align: right;\n",
       "    }\n",
       "</style>\n",
       "<table border=\"1\" class=\"dataframe\">\n",
       "  <thead>\n",
       "    <tr>\n",
       "      <th></th>\n",
       "      <th colspan=\"8\" halign=\"left\">travel_time</th>\n",
       "      <th colspan=\"5\" halign=\"left\">travel_dist</th>\n",
       "      <th colspan=\"8\" halign=\"left\">max_vel</th>\n",
       "    </tr>\n",
       "    <tr>\n",
       "      <th></th>\n",
       "      <th>count</th>\n",
       "      <th>mean</th>\n",
       "      <th>std</th>\n",
       "      <th>min</th>\n",
       "      <th>25%</th>\n",
       "      <th>50%</th>\n",
       "      <th>75%</th>\n",
       "      <th>max</th>\n",
       "      <th>count</th>\n",
       "      <th>mean</th>\n",
       "      <th>...</th>\n",
       "      <th>75%</th>\n",
       "      <th>max</th>\n",
       "      <th>count</th>\n",
       "      <th>mean</th>\n",
       "      <th>std</th>\n",
       "      <th>min</th>\n",
       "      <th>25%</th>\n",
       "      <th>50%</th>\n",
       "      <th>75%</th>\n",
       "      <th>max</th>\n",
       "    </tr>\n",
       "    <tr>\n",
       "      <th>mod</th>\n",
       "      <th></th>\n",
       "      <th></th>\n",
       "      <th></th>\n",
       "      <th></th>\n",
       "      <th></th>\n",
       "      <th></th>\n",
       "      <th></th>\n",
       "      <th></th>\n",
       "      <th></th>\n",
       "      <th></th>\n",
       "      <th></th>\n",
       "      <th></th>\n",
       "      <th></th>\n",
       "      <th></th>\n",
       "      <th></th>\n",
       "      <th></th>\n",
       "      <th></th>\n",
       "      <th></th>\n",
       "      <th></th>\n",
       "      <th></th>\n",
       "      <th></th>\n",
       "    </tr>\n",
       "  </thead>\n",
       "  <tbody>\n",
       "    <tr>\n",
       "      <th>0</th>\n",
       "      <td>70.0</td>\n",
       "      <td>1145.542857</td>\n",
       "      <td>708.486194</td>\n",
       "      <td>314.0</td>\n",
       "      <td>577.75</td>\n",
       "      <td>1040.0</td>\n",
       "      <td>1294.25</td>\n",
       "      <td>3606.0</td>\n",
       "      <td>70.0</td>\n",
       "      <td>8285.846338</td>\n",
       "      <td>...</td>\n",
       "      <td>10433.511680</td>\n",
       "      <td>18479.902171</td>\n",
       "      <td>70.0</td>\n",
       "      <td>19.998471</td>\n",
       "      <td>0.002822</td>\n",
       "      <td>19.986</td>\n",
       "      <td>19.99800</td>\n",
       "      <td>20.0000</td>\n",
       "      <td>20.00000</td>\n",
       "      <td>20.000</td>\n",
       "    </tr>\n",
       "    <tr>\n",
       "      <th>1</th>\n",
       "      <td>16.0</td>\n",
       "      <td>817.750000</td>\n",
       "      <td>591.676657</td>\n",
       "      <td>213.0</td>\n",
       "      <td>438.50</td>\n",
       "      <td>632.0</td>\n",
       "      <td>1009.25</td>\n",
       "      <td>2383.0</td>\n",
       "      <td>16.0</td>\n",
       "      <td>11969.269327</td>\n",
       "      <td>...</td>\n",
       "      <td>16611.033994</td>\n",
       "      <td>28343.673798</td>\n",
       "      <td>16.0</td>\n",
       "      <td>66.186688</td>\n",
       "      <td>18.196948</td>\n",
       "      <td>49.990</td>\n",
       "      <td>50.00000</td>\n",
       "      <td>59.6245</td>\n",
       "      <td>89.97650</td>\n",
       "      <td>90.000</td>\n",
       "    </tr>\n",
       "    <tr>\n",
       "      <th>2</th>\n",
       "      <td>76.0</td>\n",
       "      <td>1001.736842</td>\n",
       "      <td>675.650943</td>\n",
       "      <td>210.0</td>\n",
       "      <td>533.25</td>\n",
       "      <td>831.5</td>\n",
       "      <td>1196.00</td>\n",
       "      <td>2888.0</td>\n",
       "      <td>76.0</td>\n",
       "      <td>11330.840404</td>\n",
       "      <td>...</td>\n",
       "      <td>15363.535227</td>\n",
       "      <td>29214.113094</td>\n",
       "      <td>76.0</td>\n",
       "      <td>67.098408</td>\n",
       "      <td>19.057647</td>\n",
       "      <td>41.105</td>\n",
       "      <td>50.71575</td>\n",
       "      <td>62.3000</td>\n",
       "      <td>84.40850</td>\n",
       "      <td>110.281</td>\n",
       "    </tr>\n",
       "    <tr>\n",
       "      <th>3</th>\n",
       "      <td>72.0</td>\n",
       "      <td>5252.611111</td>\n",
       "      <td>3253.489016</td>\n",
       "      <td>480.0</td>\n",
       "      <td>2665.50</td>\n",
       "      <td>4853.0</td>\n",
       "      <td>7103.75</td>\n",
       "      <td>14839.0</td>\n",
       "      <td>72.0</td>\n",
       "      <td>10627.154487</td>\n",
       "      <td>...</td>\n",
       "      <td>13471.670320</td>\n",
       "      <td>37882.835171</td>\n",
       "      <td>72.0</td>\n",
       "      <td>5.057111</td>\n",
       "      <td>0.577880</td>\n",
       "      <td>3.821</td>\n",
       "      <td>4.70800</td>\n",
       "      <td>5.0350</td>\n",
       "      <td>5.37525</td>\n",
       "      <td>6.602</td>\n",
       "    </tr>\n",
       "    <tr>\n",
       "      <th>4</th>\n",
       "      <td>4.0</td>\n",
       "      <td>414.500000</td>\n",
       "      <td>337.364788</td>\n",
       "      <td>200.0</td>\n",
       "      <td>245.75</td>\n",
       "      <td>270.0</td>\n",
       "      <td>438.75</td>\n",
       "      <td>918.0</td>\n",
       "      <td>4.0</td>\n",
       "      <td>9836.869717</td>\n",
       "      <td>...</td>\n",
       "      <td>10476.604931</td>\n",
       "      <td>26884.139872</td>\n",
       "      <td>4.0</td>\n",
       "      <td>101.223000</td>\n",
       "      <td>41.812636</td>\n",
       "      <td>50.004</td>\n",
       "      <td>87.42600</td>\n",
       "      <td>101.2500</td>\n",
       "      <td>115.04700</td>\n",
       "      <td>152.388</td>\n",
       "    </tr>\n",
       "    <tr>\n",
       "      <th>5</th>\n",
       "      <td>4.0</td>\n",
       "      <td>1021.250000</td>\n",
       "      <td>515.016100</td>\n",
       "      <td>411.0</td>\n",
       "      <td>714.75</td>\n",
       "      <td>1044.5</td>\n",
       "      <td>1351.00</td>\n",
       "      <td>1585.0</td>\n",
       "      <td>4.0</td>\n",
       "      <td>6806.911615</td>\n",
       "      <td>...</td>\n",
       "      <td>9625.912823</td>\n",
       "      <td>9724.494440</td>\n",
       "      <td>4.0</td>\n",
       "      <td>14.845000</td>\n",
       "      <td>0.000000</td>\n",
       "      <td>14.845</td>\n",
       "      <td>14.84500</td>\n",
       "      <td>14.8450</td>\n",
       "      <td>14.84500</td>\n",
       "      <td>14.845</td>\n",
       "    </tr>\n",
       "    <tr>\n",
       "      <th>6</th>\n",
       "      <td>45.0</td>\n",
       "      <td>992.177778</td>\n",
       "      <td>686.231550</td>\n",
       "      <td>239.0</td>\n",
       "      <td>497.00</td>\n",
       "      <td>794.0</td>\n",
       "      <td>1411.00</td>\n",
       "      <td>2892.0</td>\n",
       "      <td>45.0</td>\n",
       "      <td>11003.675198</td>\n",
       "      <td>...</td>\n",
       "      <td>14089.224393</td>\n",
       "      <td>25872.227373</td>\n",
       "      <td>45.0</td>\n",
       "      <td>65.957911</td>\n",
       "      <td>17.937503</td>\n",
       "      <td>42.258</td>\n",
       "      <td>51.09100</td>\n",
       "      <td>55.9080</td>\n",
       "      <td>86.14200</td>\n",
       "      <td>97.976</td>\n",
       "    </tr>\n",
       "    <tr>\n",
       "      <th>7</th>\n",
       "      <td>156.0</td>\n",
       "      <td>818.769231</td>\n",
       "      <td>521.595775</td>\n",
       "      <td>141.0</td>\n",
       "      <td>458.50</td>\n",
       "      <td>698.0</td>\n",
       "      <td>1051.25</td>\n",
       "      <td>2522.0</td>\n",
       "      <td>156.0</td>\n",
       "      <td>11078.211202</td>\n",
       "      <td>...</td>\n",
       "      <td>14564.450217</td>\n",
       "      <td>32098.773178</td>\n",
       "      <td>156.0</td>\n",
       "      <td>62.545179</td>\n",
       "      <td>17.639990</td>\n",
       "      <td>35.351</td>\n",
       "      <td>48.99825</td>\n",
       "      <td>55.2300</td>\n",
       "      <td>77.45325</td>\n",
       "      <td>108.171</td>\n",
       "    </tr>\n",
       "  </tbody>\n",
       "</table>\n",
       "<p>8 rows × 24 columns</p>\n",
       "</div>"
      ],
      "text/plain": [
       "    travel_time                                                             \\\n",
       "          count         mean          std    min      25%     50%      75%   \n",
       "mod                                                                          \n",
       "0          70.0  1145.542857   708.486194  314.0   577.75  1040.0  1294.25   \n",
       "1          16.0   817.750000   591.676657  213.0   438.50   632.0  1009.25   \n",
       "2          76.0  1001.736842   675.650943  210.0   533.25   831.5  1196.00   \n",
       "3          72.0  5252.611111  3253.489016  480.0  2665.50  4853.0  7103.75   \n",
       "4           4.0   414.500000   337.364788  200.0   245.75   270.0   438.75   \n",
       "5           4.0  1021.250000   515.016100  411.0   714.75  1044.5  1351.00   \n",
       "6          45.0   992.177778   686.231550  239.0   497.00   794.0  1411.00   \n",
       "7         156.0   818.769231   521.595775  141.0   458.50   698.0  1051.25   \n",
       "\n",
       "             travel_dist                ...                              \\\n",
       "         max       count          mean  ...           75%           max   \n",
       "mod                                     ...                               \n",
       "0     3606.0        70.0   8285.846338  ...  10433.511680  18479.902171   \n",
       "1     2383.0        16.0  11969.269327  ...  16611.033994  28343.673798   \n",
       "2     2888.0        76.0  11330.840404  ...  15363.535227  29214.113094   \n",
       "3    14839.0        72.0  10627.154487  ...  13471.670320  37882.835171   \n",
       "4      918.0         4.0   9836.869717  ...  10476.604931  26884.139872   \n",
       "5     1585.0         4.0   6806.911615  ...   9625.912823   9724.494440   \n",
       "6     2892.0        45.0  11003.675198  ...  14089.224393  25872.227373   \n",
       "7     2522.0       156.0  11078.211202  ...  14564.450217  32098.773178   \n",
       "\n",
       "    max_vel                                                                \\\n",
       "      count        mean        std     min       25%       50%        75%   \n",
       "mod                                                                         \n",
       "0      70.0   19.998471   0.002822  19.986  19.99800   20.0000   20.00000   \n",
       "1      16.0   66.186688  18.196948  49.990  50.00000   59.6245   89.97650   \n",
       "2      76.0   67.098408  19.057647  41.105  50.71575   62.3000   84.40850   \n",
       "3      72.0    5.057111   0.577880   3.821   4.70800    5.0350    5.37525   \n",
       "4       4.0  101.223000  41.812636  50.004  87.42600  101.2500  115.04700   \n",
       "5       4.0   14.845000   0.000000  14.845  14.84500   14.8450   14.84500   \n",
       "6      45.0   65.957911  17.937503  42.258  51.09100   55.9080   86.14200   \n",
       "7     156.0   62.545179  17.639990  35.351  48.99825   55.2300   77.45325   \n",
       "\n",
       "              \n",
       "         max  \n",
       "mod           \n",
       "0     20.000  \n",
       "1     90.000  \n",
       "2    110.281  \n",
       "3      6.602  \n",
       "4    152.388  \n",
       "5     14.845  \n",
       "6     97.976  \n",
       "7    108.171  \n",
       "\n",
       "[8 rows x 24 columns]"
      ]
     },
     "execution_count": 142,
     "metadata": {},
     "output_type": "execute_result"
    }
   ],
   "source": [
    "# Summarize dataset by class (mod)\n",
    "# Let's do it simple first, and only use 2 variables (travel time and travel_distance)\n",
    "\n",
    "df_train_class_desc = df_training.groupby('mod')[['travel_time','travel_dist', 'max_vel']].describe()\n",
    "df_train_class_desc"
   ]
  },
  {
   "cell_type": "code",
   "execution_count": 143,
   "id": "eligible-carroll",
   "metadata": {},
   "outputs": [
    {
     "data": {
      "text/plain": [
       "[('travel_time', 'count'),\n",
       " ('travel_time', 'mean'),\n",
       " ('travel_time', 'std'),\n",
       " ('travel_dist', 'count'),\n",
       " ('travel_dist', 'mean'),\n",
       " ('travel_dist', 'std'),\n",
       " ('max_vel', 'count'),\n",
       " ('max_vel', 'mean'),\n",
       " ('max_vel', 'std')]"
      ]
     },
     "execution_count": 143,
     "metadata": {},
     "output_type": "execute_result"
    }
   ],
   "source": [
    "needed_cols = [(col,desc) for col,desc in df_train_class_desc.columns if desc in ['mean','std','count']]\n",
    "needed_cols"
   ]
  },
  {
   "cell_type": "code",
   "execution_count": 144,
   "id": "hearing-plain",
   "metadata": {},
   "outputs": [],
   "source": [
    "naive_model = df_train_class_desc[needed_cols]"
   ]
  },
  {
   "cell_type": "code",
   "execution_count": 151,
   "id": "buried-courage",
   "metadata": {},
   "outputs": [
    {
     "data": {
      "text/plain": [
       "mod\n",
       "0     19.998471\n",
       "1     66.186688\n",
       "2     67.098408\n",
       "3      5.057111\n",
       "4    101.223000\n",
       "5     14.845000\n",
       "6     65.957911\n",
       "7     62.545179\n",
       "Name: (max_vel, mean), dtype: float64"
      ]
     },
     "execution_count": 151,
     "metadata": {},
     "output_type": "execute_result"
    }
   ],
   "source": [
    "naive_model[('max_vel','mean')]"
   ]
  },
  {
   "cell_type": "code",
   "execution_count": 5,
   "id": "useful-trash",
   "metadata": {},
   "outputs": [],
   "source": [
    "# The model is ready let's proceed to testing the naive model!"
   ]
  },
  {
   "cell_type": "markdown",
   "id": "moderate-gender",
   "metadata": {},
   "source": [
    "<div class=\"alert alert-block alert-danger\">\n",
    "    <b>Task006:</b> Define Gaussian probability density function (PDF)\n",
    "    <p>The formula is as follows:</p>\n",
    "</div>"
   ]
  },
  {
   "cell_type": "markdown",
   "id": "peaceful-young",
   "metadata": {},
   "source": [
    "$g(x)={\\frac {1}{\\sigma {\\sqrt {2\\pi }}}}\\exp {\\left(-{\\frac {1}{2}}{\\frac {(x-\\mu )^{2}}{\\sigma ^{2}}}\\right)}$"
   ]
  },
  {
   "cell_type": "code",
   "execution_count": 67,
   "id": "vanilla-princess",
   "metadata": {},
   "outputs": [],
   "source": [
    "def gaussian_pdf(x, mu, sigma):\n",
    "    exp = np.exp(-((x-mu)**2 / (2 * sigma**2 )))\n",
    "    return (1 / (np.sqrt(2 * np.pi) * sigma)) * exp"
   ]
  },
  {
   "cell_type": "code",
   "execution_count": 59,
   "id": "terminal-electron",
   "metadata": {},
   "outputs": [
    {
     "name": "stdout",
     "output_type": "stream",
     "text": [
      "0.3989422804014327\n",
      "0.24197072451914337\n",
      "0.24197072451914337\n"
     ]
    }
   ],
   "source": [
    "# Test Gaussian PDF\n",
    "print(gaussian_pdf(1.0, 1.0, 1.0))\n",
    "print(gaussian_pdf(2.0, 1.0, 1.0))\n",
    "print(gaussian_pdf(0.0, 1.0, 1.0))"
   ]
  },
  {
   "cell_type": "markdown",
   "id": "equal-remains",
   "metadata": {},
   "source": [
    "<div class=\"alert alert-block alert-danger\">\n",
    "    <b>Task007:</b> Remember how do we calculated the probabilities ? and we have how many parameters ?\n",
    "</div>"
   ]
  },
  {
   "cell_type": "code",
   "execution_count": 165,
   "id": "documentary-tract",
   "metadata": {},
   "outputs": [],
   "source": [
    "# Let's do it with one sample from testing set\n",
    "#df_testing.loc[267]\n",
    "x = df_testing[df_testing['mod'].values == 1].iloc[0]"
   ]
  },
  {
   "cell_type": "code",
   "execution_count": 166,
   "id": "official-vietnamese",
   "metadata": {},
   "outputs": [
    {
     "data": {
      "text/plain": [
       "69.97"
      ]
     },
     "execution_count": 166,
     "metadata": {},
     "output_type": "execute_result"
    }
   ],
   "source": [
    "x.max_vel"
   ]
  },
  {
   "cell_type": "code",
   "execution_count": 167,
   "id": "needed-request",
   "metadata": {},
   "outputs": [],
   "source": [
    "# Lets estimate probability of x being in class 0\n",
    "class0 = naive_model.loc[0]"
   ]
  },
  {
   "cell_type": "code",
   "execution_count": 168,
   "id": "modern-durham",
   "metadata": {},
   "outputs": [
    {
     "data": {
      "text/plain": [
       "travel_time  count      70.000000\n",
       "             mean     1145.542857\n",
       "             std       708.486194\n",
       "travel_dist  count      70.000000\n",
       "             mean     8285.846338\n",
       "             std      3956.171424\n",
       "max_vel      count      70.000000\n",
       "             mean       19.998471\n",
       "             std         0.002822\n",
       "Name: 0, dtype: float64"
      ]
     },
     "execution_count": 168,
     "metadata": {},
     "output_type": "execute_result"
    }
   ],
   "source": [
    "class0"
   ]
  },
  {
   "cell_type": "markdown",
   "id": "ongoing-parade",
   "metadata": {},
   "source": [
    "<div class=\"alert alert-block alert-danger\">\n",
    "    <b>Task008:</b> Calculate probabiltity values of x.travel_time fall within the dsitribution class0 travel_time.mean, travel_time.std\n",
    "</div>"
   ]
  },
  {
   "cell_type": "code",
   "execution_count": 169,
   "id": "exempt-earth",
   "metadata": {},
   "outputs": [
    {
     "data": {
      "text/plain": [
       "0.0003280140612506257"
      ]
     },
     "execution_count": 169,
     "metadata": {},
     "output_type": "execute_result"
    }
   ],
   "source": [
    "gaussian_pdf(x.travel_time, class0[('travel_time','mean')], class0[('travel_time','std')])"
   ]
  },
  {
   "cell_type": "markdown",
   "id": "ideal-restriction",
   "metadata": {},
   "source": [
    "<div class=\"alert alert-block alert-danger\">\n",
    "    <b>Task009:</b> Calculate probabiltity based on second var (travel_dist)\n",
    "</div>"
   ]
  },
  {
   "cell_type": "code",
   "execution_count": 170,
   "id": "outstanding-alberta",
   "metadata": {},
   "outputs": [
    {
     "data": {
      "text/plain": [
       "1.3893826815065487e-05"
      ]
     },
     "execution_count": 170,
     "metadata": {},
     "output_type": "execute_result"
    }
   ],
   "source": [
    "gaussian_pdf(x.travel_time, class0[('travel_dist','mean')], class0[('travel_dist','std')])"
   ]
  },
  {
   "cell_type": "markdown",
   "id": "missing-display",
   "metadata": {},
   "source": [
    "<div class=\"alert alert-block alert-danger\">\n",
    "    <b>Task010:</b>Calculate Marginal probability of class 0\n",
    "</div>"
   ]
  },
  {
   "cell_type": "code",
   "execution_count": 171,
   "id": "mature-nursery",
   "metadata": {},
   "outputs": [
    {
     "data": {
      "text/plain": [
       "mod\n",
       "0     70\n",
       "1     16\n",
       "2     76\n",
       "3     72\n",
       "4      4\n",
       "5      4\n",
       "6     45\n",
       "7    156\n",
       "Name: mod, dtype: int64"
      ]
     },
     "execution_count": 171,
     "metadata": {},
     "output_type": "execute_result"
    }
   ],
   "source": [
    "total_records_per_class = df_training.groupby('mod').mod.count()\n",
    "total_records_per_class"
   ]
  },
  {
   "cell_type": "code",
   "execution_count": 172,
   "id": "about-field",
   "metadata": {},
   "outputs": [
    {
     "data": {
      "text/plain": [
       "mod\n",
       "0    0.158014\n",
       "1    0.036117\n",
       "2    0.171558\n",
       "3    0.162528\n",
       "4    0.009029\n",
       "5    0.009029\n",
       "6    0.101580\n",
       "7    0.352144\n",
       "Name: mod, dtype: float64"
      ]
     },
     "execution_count": 172,
     "metadata": {},
     "output_type": "execute_result"
    }
   ],
   "source": [
    "marginal_p_per_class = total_records_per_class / np.sum(total_records_per_class)\n",
    "marginal_p_per_class"
   ]
  },
  {
   "cell_type": "code",
   "execution_count": 173,
   "id": "virgin-determination",
   "metadata": {},
   "outputs": [
    {
     "data": {
      "text/plain": [
       "0.0"
      ]
     },
     "execution_count": 173,
     "metadata": {},
     "output_type": "execute_result"
    }
   ],
   "source": [
    "# Finaly we can give estimation of sample x being in class 0:\n",
    "gaussian_pdf(x.travel_time, class0[('travel_time','mean')], class0[('travel_time','std')]) *\\\n",
    "gaussian_pdf(x.travel_dist, class0[('travel_dist','mean')], class0[('travel_dist','std')]) *\\\n",
    "gaussian_pdf(x.max_vel, class0[('max_vel','mean')], class0[('max_vel','std')]) *\\\n",
    "marginal_p_per_class.loc[0]"
   ]
  },
  {
   "cell_type": "code",
   "execution_count": 174,
   "id": "emerging-petroleum",
   "metadata": {},
   "outputs": [],
   "source": [
    "# But what about the other classes ?\n",
    "# Just use vector ops :)\n",
    "sample_x_classification =\\\n",
    "gaussian_pdf(x.travel_time, naive_model[('travel_time','mean')], naive_model[('travel_time','std')]) *\\\n",
    "gaussian_pdf(x.travel_dist, naive_model[('travel_dist','mean')], naive_model[('travel_dist','std')]) *\\\n",
    "gaussian_pdf(x.max_vel, naive_model[('max_vel','mean')], naive_model[('max_vel','std')]) *\\\n",
    "marginal_p_per_class"
   ]
  },
  {
   "cell_type": "code",
   "execution_count": 177,
   "id": "sharp-kingdom",
   "metadata": {},
   "outputs": [
    {
     "data": {
      "text/plain": [
       "mod\n",
       "0    0.000000e+00\n",
       "1    2.298746e-11\n",
       "2    9.239693e-11\n",
       "3    0.000000e+00\n",
       "4    2.697264e-12\n",
       "5             NaN\n",
       "6    5.835799e-11\n",
       "7    2.445107e-10\n",
       "dtype: float64"
      ]
     },
     "execution_count": 177,
     "metadata": {},
     "output_type": "execute_result"
    }
   ],
   "source": [
    "sample_x_classification"
   ]
  },
  {
   "cell_type": "code",
   "execution_count": 178,
   "id": "outer-reminder",
   "metadata": {},
   "outputs": [
    {
     "data": {
      "image/png": "[encoded data removed]",
      "text/plain": [
       "<Figure size 432x288 with 1 Axes>"
      ]
     },
     "metadata": {
      "needs_background": "light"
     },
     "output_type": "display_data"
    }
   ],
   "source": [
    "plt.plot(sample_x_classification)\n",
    "plt.ylabel('Probability')\n",
    "plt.xlabel('Classes')\n",
    "plt.grid()"
   ]
  },
  {
   "cell_type": "code",
   "execution_count": 179,
   "id": "intermediate-smell",
   "metadata": {},
   "outputs": [
    {
     "data": {
      "text/plain": [
       "7"
      ]
     },
     "execution_count": 179,
     "metadata": {},
     "output_type": "execute_result"
    }
   ],
   "source": [
    "# And the highest likely class ist:\n",
    "class_x = np.argmax(sample_x_classification)\n",
    "class_x"
   ]
  },
  {
   "cell_type": "code",
   "execution_count": 180,
   "id": "lined-robertson",
   "metadata": {},
   "outputs": [
    {
     "data": {
      "text/plain": [
       "2.4451072300379914e-10"
      ]
     },
     "execution_count": 180,
     "metadata": {},
     "output_type": "execute_result"
    }
   ],
   "source": [
    "# With the probability\n",
    "sample_x_classification[class_x]"
   ]
  },
  {
   "cell_type": "code",
   "execution_count": 181,
   "id": "respective-praise",
   "metadata": {},
   "outputs": [
    {
     "data": {
      "text/plain": [
       "mod               1.000000\n",
       "travel_time     409.000000\n",
       "min_vel           0.000000\n",
       "max_vel          69.970000\n",
       "mean_vel         49.735976\n",
       "std_vel          14.422708\n",
       "travel_dist    9300.026114\n",
       "Name: 107, dtype: float64"
      ]
     },
     "execution_count": 181,
     "metadata": {},
     "output_type": "execute_result"
    }
   ],
   "source": [
    "df_testing.loc[x.name]"
   ]
  },
  {
   "cell_type": "code",
   "execution_count": 182,
   "id": "perceived-karma",
   "metadata": {},
   "outputs": [
    {
     "data": {
      "text/plain": [
       "1"
      ]
     },
     "execution_count": 182,
     "metadata": {},
     "output_type": "execute_result"
    }
   ],
   "source": [
    "# And actually sample x belongs to:\n",
    "int(df_testing.loc[x.name]['mod'])"
   ]
  },
  {
   "cell_type": "code",
   "execution_count": 121,
   "id": "found-multimedia",
   "metadata": {},
   "outputs": [
    {
     "data": {
      "text/plain": [
       "<bound method flex_arith_method_FRAME.<locals>.f of      mod  travel_time  min_vel  max_vel   mean_vel    std_vel   travel_dist\n",
       "417    0         1205      0.0   20.000  17.750343   4.367425  10480.796299\n",
       "257    0         1789      0.0   20.000  18.216340   2.832486  15408.782319\n",
       "271    0          611      0.0   19.993  18.659462   1.553506   5504.669279\n",
       "400    0         3254      0.0   20.000   7.300061   9.149739   8281.693943\n",
       "264    0         1265      0.0   20.000  17.595126   4.489754  10494.094571\n",
       "..   ...          ...      ...      ...        ...        ...           ...\n",
       "12     7         2259      0.0   87.188  18.138672  18.144401  21220.709888\n",
       "518    7          166      0.0   48.411  38.537584  12.824008   2671.619448\n",
       "130    7          791      0.0   98.241  41.715863  21.745713  16267.474569\n",
       "267    7          502      0.0   56.739  34.618006  22.538432   8300.671100\n",
       "73     7         1316      0.0   94.511  30.848201  25.754855  20675.080360\n",
       "\n",
       "[554 rows x 7 columns]>"
      ]
     },
     "execution_count": 121,
     "metadata": {},
     "output_type": "execute_result"
    }
   ],
   "source": [
    "df_dataset.mod"
   ]
  },
  {
   "cell_type": "code",
   "execution_count": 124,
   "id": "infrared-welcome",
   "metadata": {},
   "outputs": [
    {
     "data": {
      "text/plain": [
       "mod               0.000000\n",
       "travel_time     878.000000\n",
       "min_vel           0.000000\n",
       "max_vel          19.997000\n",
       "mean_vel         15.066642\n",
       "std_vel           7.262535\n",
       "travel_dist    6197.573997\n",
       "Name: 8, dtype: float64"
      ]
     },
     "execution_count": 124,
     "metadata": {},
     "output_type": "execute_result"
    }
   ],
   "source": [
    "\n",
    "df_testing[df_testing['mod'].values == 0].iloc[0]"
   ]
  },
  {
   "cell_type": "code",
   "execution_count": 113,
   "id": "based-driving",
   "metadata": {},
   "outputs": [
    {
     "data": {
      "image/png": "[encoded data removed]",
      "text/plain": [
       "<Figure size 864x288 with 1 Axes>"
      ]
     },
     "metadata": {
      "needs_background": "light"
     },
     "output_type": "display_data"
    }
   ],
   "source": [
    "fig = plt.figure()\n",
    "fig.set_figwidth(12)\n",
    "mod_travel_dist = df_training.groupby('mod').travel_dist.mean()\n",
    "plt.barh(mod_travel_dist.index, mod_travel_dist)\n",
    "#plt.yticks(mod_idx, [mods[i] for i in mod_idx])\n",
    "xticks = plt.xticks()[0]\n",
    "#plt.xticks(xticks, ['%.01f' % (s/60.) for s in xticks])\n",
    "plt.xlabel('Meters')\n",
    "plt.title('Average traveldistance')\n",
    "plt.grid()"
   ]
  },
  {
   "cell_type": "code",
   "execution_count": null,
   "id": "english-intro",
   "metadata": {},
   "outputs": [],
   "source": [
    "# Next let's try out with K-nearest neighbour\n",
    "# And let's try with 2 parameters"
   ]
  }
 ],
 "metadata": {
  "kernelspec": {
   "display_name": "Python 3",
   "language": "python",
   "name": "python3"
  },
  "language_info": {
   "codemirror_mode": {
    "name": "ipython",
    "version": 3
   },
   "file_extension": ".py",
   "mimetype": "text/x-python",
   "name": "python",
   "nbconvert_exporter": "python",
   "pygments_lexer": "ipython3",
   "version": "3.7.9"
  }
 },
 "nbformat": 4,
 "nbformat_minor": 5
}

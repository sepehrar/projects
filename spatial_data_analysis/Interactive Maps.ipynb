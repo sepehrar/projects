{
 "cells": [
  {
   "cell_type": "markdown",
   "id": "unavailable-thanksgiving",
   "metadata": {},
   "source": [
    "\n",
    "### Interactive Maps\n",
    "\n",
    "##### Analyzing which areas of Japan need extra earthquake reinforcement. Which areas are both high in population density and prone to earthquakes?"
   ]
  },
  {
   "cell_type": "code",
   "execution_count": 2,
   "id": "chronic-syndrome",
   "metadata": {},
   "outputs": [],
   "source": [
    "import pandas as pd\n",
    "import geopandas as gpd\n",
    "\n",
    "import folium\n",
    "from folium import Choropleth\n",
    "from folium.plugins import HeatMap"
   ]
  },
  {
   "cell_type": "code",
   "execution_count": 4,
   "id": "economic-partition",
   "metadata": {},
   "outputs": [],
   "source": [
    "def embed_map(m, file_name):\n",
    "    from IPython.display import IFrame\n",
    "    m.save(file_name)\n",
    "    return IFrame(file_name, width='100%', height='500px')"
   ]
  },
  {
   "cell_type": "code",
   "execution_count": 8,
   "id": "acoustic-craps",
   "metadata": {},
   "outputs": [
    {
     "data": {
      "text/html": [
       "<div>\n",
       "<style scoped>\n",
       "    .dataframe tbody tr th:only-of-type {\n",
       "        vertical-align: middle;\n",
       "    }\n",
       "\n",
       "    .dataframe tbody tr th {\n",
       "        vertical-align: top;\n",
       "    }\n",
       "\n",
       "    .dataframe thead th {\n",
       "        text-align: right;\n",
       "    }\n",
       "</style>\n",
       "<table border=\"1\" class=\"dataframe\">\n",
       "  <thead>\n",
       "    <tr style=\"text-align: right;\">\n",
       "      <th></th>\n",
       "      <th>HAZ_PLATES</th>\n",
       "      <th>HAZ_PLAT_1</th>\n",
       "      <th>HAZ_PLAT_2</th>\n",
       "      <th>Shape_Leng</th>\n",
       "      <th>coordinates</th>\n",
       "    </tr>\n",
       "  </thead>\n",
       "  <tbody>\n",
       "    <tr>\n",
       "      <th>0</th>\n",
       "      <td>TRENCH</td>\n",
       "      <td>SERAM TROUGH (ACTIVE)</td>\n",
       "      <td>6722</td>\n",
       "      <td>5.843467</td>\n",
       "      <td>[(-5.444200361999947, 133.6808931800001), (-5....</td>\n",
       "    </tr>\n",
       "    <tr>\n",
       "      <th>1</th>\n",
       "      <td>TRENCH</td>\n",
       "      <td>WETAR THRUST</td>\n",
       "      <td>6722</td>\n",
       "      <td>1.829013</td>\n",
       "      <td>[(-7.760600482999962, 125.47879802900002), (-7...</td>\n",
       "    </tr>\n",
       "    <tr>\n",
       "      <th>2</th>\n",
       "      <td>TRENCH</td>\n",
       "      <td>TRENCH WEST OF LUZON (MANILA TRENCH) NORTHERN ...</td>\n",
       "      <td>6621</td>\n",
       "      <td>6.743604</td>\n",
       "      <td>[(19.817899819000047, 120.09999798800004), (19...</td>\n",
       "    </tr>\n",
       "    <tr>\n",
       "      <th>3</th>\n",
       "      <td>TRENCH</td>\n",
       "      <td>BONIN TRENCH</td>\n",
       "      <td>9821</td>\n",
       "      <td>8.329381</td>\n",
       "      <td>[(26.175899215000072, 143.20620700100005), (26...</td>\n",
       "    </tr>\n",
       "    <tr>\n",
       "      <th>4</th>\n",
       "      <td>TRENCH</td>\n",
       "      <td>NEW GUINEA TRENCH</td>\n",
       "      <td>8001</td>\n",
       "      <td>11.998145</td>\n",
       "      <td>[(0.41880004000006466, 132.8273013480001), (0....</td>\n",
       "    </tr>\n",
       "  </tbody>\n",
       "</table>\n",
       "</div>"
      ],
      "text/plain": [
       "  HAZ_PLATES                                         HAZ_PLAT_1  HAZ_PLAT_2  \\\n",
       "0     TRENCH                              SERAM TROUGH (ACTIVE)        6722   \n",
       "1     TRENCH                                       WETAR THRUST        6722   \n",
       "2     TRENCH  TRENCH WEST OF LUZON (MANILA TRENCH) NORTHERN ...        6621   \n",
       "3     TRENCH                                       BONIN TRENCH        9821   \n",
       "4     TRENCH                                  NEW GUINEA TRENCH        8001   \n",
       "\n",
       "   Shape_Leng                                        coordinates  \n",
       "0    5.843467  [(-5.444200361999947, 133.6808931800001), (-5....  \n",
       "1    1.829013  [(-7.760600482999962, 125.47879802900002), (-7...  \n",
       "2    6.743604  [(19.817899819000047, 120.09999798800004), (19...  \n",
       "3    8.329381  [(26.175899215000072, 143.20620700100005), (26...  \n",
       "4   11.998145  [(0.41880004000006466, 132.8273013480001), (0....  "
      ]
     },
     "execution_count": 8,
     "metadata": {},
     "output_type": "execute_result"
    }
   ],
   "source": [
    "plate_boundaries = gpd.read_file(\"D:/geospatial_analysis_python/practices/data/Plate_Boundaries/Plate_Boundaries/Plate_Boundaries.shp\")\n",
    "plate_boundaries['coordinates'] = plate_boundaries.apply(lambda x: [(b,a) for (a,b) in list(x.geometry.coords)], axis='columns')\n",
    "plate_boundaries.drop('geometry', axis=1, inplace=True)\n",
    "\n",
    "plate_boundaries.head()"
   ]
  },
  {
   "cell_type": "code",
   "execution_count": 9,
   "id": "spanish-astronomy",
   "metadata": {},
   "outputs": [
    {
     "data": {
      "text/html": [
       "<div>\n",
       "<style scoped>\n",
       "    .dataframe tbody tr th:only-of-type {\n",
       "        vertical-align: middle;\n",
       "    }\n",
       "\n",
       "    .dataframe tbody tr th {\n",
       "        vertical-align: top;\n",
       "    }\n",
       "\n",
       "    .dataframe thead th {\n",
       "        text-align: right;\n",
       "    }\n",
       "</style>\n",
       "<table border=\"1\" class=\"dataframe\">\n",
       "  <thead>\n",
       "    <tr style=\"text-align: right;\">\n",
       "      <th></th>\n",
       "      <th>DateTime</th>\n",
       "      <th>Latitude</th>\n",
       "      <th>Longitude</th>\n",
       "      <th>Depth</th>\n",
       "      <th>Magnitude</th>\n",
       "      <th>MagType</th>\n",
       "      <th>NbStations</th>\n",
       "      <th>Gap</th>\n",
       "      <th>Distance</th>\n",
       "      <th>RMS</th>\n",
       "      <th>Source</th>\n",
       "      <th>EventID</th>\n",
       "    </tr>\n",
       "  </thead>\n",
       "  <tbody>\n",
       "    <tr>\n",
       "      <th>0</th>\n",
       "      <td>1970-01-04 17:00:40.200</td>\n",
       "      <td>24.139</td>\n",
       "      <td>102.503</td>\n",
       "      <td>31.0</td>\n",
       "      <td>7.5</td>\n",
       "      <td>Ms</td>\n",
       "      <td>90.0</td>\n",
       "      <td>NaN</td>\n",
       "      <td>NaN</td>\n",
       "      <td>0.0</td>\n",
       "      <td>NEI</td>\n",
       "      <td>1.970010e+09</td>\n",
       "    </tr>\n",
       "    <tr>\n",
       "      <th>1</th>\n",
       "      <td>1970-01-06 05:35:51.800</td>\n",
       "      <td>-9.628</td>\n",
       "      <td>151.458</td>\n",
       "      <td>8.0</td>\n",
       "      <td>6.2</td>\n",
       "      <td>Ms</td>\n",
       "      <td>85.0</td>\n",
       "      <td>NaN</td>\n",
       "      <td>NaN</td>\n",
       "      <td>0.0</td>\n",
       "      <td>NEI</td>\n",
       "      <td>1.970011e+09</td>\n",
       "    </tr>\n",
       "    <tr>\n",
       "      <th>2</th>\n",
       "      <td>1970-01-08 17:12:39.100</td>\n",
       "      <td>-34.741</td>\n",
       "      <td>178.568</td>\n",
       "      <td>179.0</td>\n",
       "      <td>6.1</td>\n",
       "      <td>Mb</td>\n",
       "      <td>59.0</td>\n",
       "      <td>NaN</td>\n",
       "      <td>NaN</td>\n",
       "      <td>0.0</td>\n",
       "      <td>NEI</td>\n",
       "      <td>1.970011e+09</td>\n",
       "    </tr>\n",
       "    <tr>\n",
       "      <th>3</th>\n",
       "      <td>1970-01-10 12:07:08.600</td>\n",
       "      <td>6.825</td>\n",
       "      <td>126.737</td>\n",
       "      <td>73.0</td>\n",
       "      <td>6.1</td>\n",
       "      <td>Mb</td>\n",
       "      <td>91.0</td>\n",
       "      <td>NaN</td>\n",
       "      <td>NaN</td>\n",
       "      <td>0.0</td>\n",
       "      <td>NEI</td>\n",
       "      <td>1.970011e+09</td>\n",
       "    </tr>\n",
       "    <tr>\n",
       "      <th>4</th>\n",
       "      <td>1970-01-16 08:05:39.000</td>\n",
       "      <td>60.280</td>\n",
       "      <td>-152.660</td>\n",
       "      <td>85.0</td>\n",
       "      <td>6.0</td>\n",
       "      <td>ML</td>\n",
       "      <td>0.0</td>\n",
       "      <td>NaN</td>\n",
       "      <td>NaN</td>\n",
       "      <td>NaN</td>\n",
       "      <td>AK</td>\n",
       "      <td>NaN</td>\n",
       "    </tr>\n",
       "  </tbody>\n",
       "</table>\n",
       "</div>"
      ],
      "text/plain": [
       "                 DateTime  Latitude  Longitude  Depth  Magnitude MagType  \\\n",
       "0 1970-01-04 17:00:40.200    24.139    102.503   31.0        7.5      Ms   \n",
       "1 1970-01-06 05:35:51.800    -9.628    151.458    8.0        6.2      Ms   \n",
       "2 1970-01-08 17:12:39.100   -34.741    178.568  179.0        6.1      Mb   \n",
       "3 1970-01-10 12:07:08.600     6.825    126.737   73.0        6.1      Mb   \n",
       "4 1970-01-16 08:05:39.000    60.280   -152.660   85.0        6.0      ML   \n",
       "\n",
       "   NbStations  Gap  Distance  RMS Source       EventID  \n",
       "0        90.0  NaN       NaN  0.0    NEI  1.970010e+09  \n",
       "1        85.0  NaN       NaN  0.0    NEI  1.970011e+09  \n",
       "2        59.0  NaN       NaN  0.0    NEI  1.970011e+09  \n",
       "3        91.0  NaN       NaN  0.0    NEI  1.970011e+09  \n",
       "4         0.0  NaN       NaN  NaN     AK           NaN  "
      ]
     },
     "execution_count": 9,
     "metadata": {},
     "output_type": "execute_result"
    }
   ],
   "source": [
    "# Load the data and print the first 5 rows\n",
    "earthquakes = pd.read_csv(\"D:/geospatial_analysis_python/practices/data/earthquakes1970-2014.csv\", parse_dates=[\"DateTime\"])\n",
    "earthquakes.head()"
   ]
  },
  {
   "cell_type": "code",
   "execution_count": 10,
   "id": "choice-tactics",
   "metadata": {},
   "outputs": [],
   "source": [
    "# Create a base map with plate boundaries\n",
    "m_1 = folium.Map(location=[35,136], tiles='cartodbpositron', zoom_start=5)\n",
    "for i in range(len(plate_boundaries)):\n",
    "    folium.PolyLine(locations=plate_boundaries.coordinates.iloc[i], weight=2, color='black').add_to(m_1)\n"
   ]
  },
  {
   "cell_type": "code",
   "execution_count": 13,
   "id": "focal-smith",
   "metadata": {},
   "outputs": [
    {
     "data": {
      "text/html": [
       "\n",
       "        <iframe\n",
       "            width=\"100%\"\n",
       "            height=\"500px\"\n",
       "            src=\"q_1.html\"\n",
       "            frameborder=\"0\"\n",
       "            allowfullscreen\n",
       "        ></iframe>\n",
       "        "
      ],
      "text/plain": [
       "<IPython.lib.display.IFrame at 0x22125328b48>"
      ]
     },
     "execution_count": 13,
     "metadata": {},
     "output_type": "execute_result"
    }
   ],
   "source": [
    "# Your code here: Add a heatmap to the map\n",
    "HeatMap(data=earthquakes[['Latitude', 'Longitude']], radius=15).add_to(m_1)\n",
    "\n",
    "# Show the map\n",
    "embed_map(m_1, 'q_1.html')"
   ]
  },
  {
   "cell_type": "markdown",
   "id": "informational-cooperative",
   "metadata": {},
   "source": [
    "#### Is there a relationship between earthquake depth and proximity to a plate boundary in Japan?"
   ]
  },
  {
   "cell_type": "code",
   "execution_count": 15,
   "id": "characteristic-berlin",
   "metadata": {},
   "outputs": [
    {
     "data": {
      "text/html": [
       "\n",
       "        <iframe\n",
       "            width=\"100%\"\n",
       "            height=\"500px\"\n",
       "            src=\"q_2.html\"\n",
       "            frameborder=\"0\"\n",
       "            allowfullscreen\n",
       "        ></iframe>\n",
       "        "
      ],
      "text/plain": [
       "<IPython.lib.display.IFrame at 0x2212571b388>"
      ]
     },
     "execution_count": 15,
     "metadata": {},
     "output_type": "execute_result"
    }
   ],
   "source": [
    "m_2 = folium.Map(location=[35,136], tiles='cartodbpositron', zoom_start=5)\n",
    "for i in range(len(plate_boundaries)):\n",
    "    folium.PolyLine(locations=plate_boundaries.coordinates.iloc[i], weight=2, color='black').add_to(m_2)\n",
    "    \n",
    "# Custom function to assign a color to each circle\n",
    "def color_producer(val):\n",
    "    if val < 50:\n",
    "        return 'forestgreen'\n",
    "    elif val < 100:\n",
    "        return 'darkorange'\n",
    "    else:\n",
    "        return 'darkred'\n",
    "\n",
    "# Add a map to visualize earthquake depth\n",
    "for i in range(0,len(earthquakes)):\n",
    "    folium.Circle(\n",
    "        location=[earthquakes.iloc[i]['Latitude'], earthquakes.iloc[i]['Longitude']],\n",
    "        radius=2000,\n",
    "        color=color_producer(earthquakes.iloc[i]['Depth'])).add_to(m_2) \n",
    "# View the map\n",
    "embed_map(m_2, 'q_2.html')"
   ]
  },
  {
   "cell_type": "markdown",
   "id": "characteristic-probability",
   "metadata": {},
   "source": [
    "### Which prefectures have high population density"
   ]
  },
  {
   "cell_type": "code",
   "execution_count": 16,
   "id": "sealed-temple",
   "metadata": {},
   "outputs": [
    {
     "data": {
      "text/html": [
       "<div>\n",
       "<style scoped>\n",
       "    .dataframe tbody tr th:only-of-type {\n",
       "        vertical-align: middle;\n",
       "    }\n",
       "\n",
       "    .dataframe tbody tr th {\n",
       "        vertical-align: top;\n",
       "    }\n",
       "\n",
       "    .dataframe thead th {\n",
       "        text-align: right;\n",
       "    }\n",
       "</style>\n",
       "<table border=\"1\" class=\"dataframe\">\n",
       "  <thead>\n",
       "    <tr style=\"text-align: right;\">\n",
       "      <th></th>\n",
       "      <th>geometry</th>\n",
       "    </tr>\n",
       "    <tr>\n",
       "      <th>prefecture</th>\n",
       "      <th></th>\n",
       "    </tr>\n",
       "  </thead>\n",
       "  <tbody>\n",
       "    <tr>\n",
       "      <th>Aichi</th>\n",
       "      <td>MULTIPOLYGON (((137.09523 34.65330, 137.09546 ...</td>\n",
       "    </tr>\n",
       "    <tr>\n",
       "      <th>Akita</th>\n",
       "      <td>MULTIPOLYGON (((139.55725 39.20330, 139.55765 ...</td>\n",
       "    </tr>\n",
       "    <tr>\n",
       "      <th>Aomori</th>\n",
       "      <td>MULTIPOLYGON (((141.39860 40.92472, 141.39806 ...</td>\n",
       "    </tr>\n",
       "    <tr>\n",
       "      <th>Chiba</th>\n",
       "      <td>MULTIPOLYGON (((139.82488 34.98967, 139.82434 ...</td>\n",
       "    </tr>\n",
       "    <tr>\n",
       "      <th>Ehime</th>\n",
       "      <td>MULTIPOLYGON (((132.55859 32.91224, 132.55904 ...</td>\n",
       "    </tr>\n",
       "  </tbody>\n",
       "</table>\n",
       "</div>"
      ],
      "text/plain": [
       "                                                     geometry\n",
       "prefecture                                                   \n",
       "Aichi       MULTIPOLYGON (((137.09523 34.65330, 137.09546 ...\n",
       "Akita       MULTIPOLYGON (((139.55725 39.20330, 139.55765 ...\n",
       "Aomori      MULTIPOLYGON (((141.39860 40.92472, 141.39806 ...\n",
       "Chiba       MULTIPOLYGON (((139.82488 34.98967, 139.82434 ...\n",
       "Ehime       MULTIPOLYGON (((132.55859 32.91224, 132.55904 ..."
      ]
     },
     "execution_count": 16,
     "metadata": {},
     "output_type": "execute_result"
    }
   ],
   "source": [
    "# GeoDataFrame with prefecture boundaries\n",
    "prefectures = gpd.read_file(\"D:/geospatial_analysis_python/practices/data/japan-prefecture-boundaries/japan-prefecture-boundaries/japan-prefecture-boundaries.shp\")\n",
    "prefectures.set_index('prefecture', inplace=True)\n",
    "prefectures.head()"
   ]
  },
  {
   "cell_type": "code",
   "execution_count": 17,
   "id": "separate-twelve",
   "metadata": {},
   "outputs": [
    {
     "data": {
      "text/html": [
       "<div>\n",
       "<style scoped>\n",
       "    .dataframe tbody tr th:only-of-type {\n",
       "        vertical-align: middle;\n",
       "    }\n",
       "\n",
       "    .dataframe tbody tr th {\n",
       "        vertical-align: top;\n",
       "    }\n",
       "\n",
       "    .dataframe thead th {\n",
       "        text-align: right;\n",
       "    }\n",
       "</style>\n",
       "<table border=\"1\" class=\"dataframe\">\n",
       "  <thead>\n",
       "    <tr style=\"text-align: right;\">\n",
       "      <th></th>\n",
       "      <th>population</th>\n",
       "      <th>area_sqkm</th>\n",
       "      <th>density</th>\n",
       "    </tr>\n",
       "    <tr>\n",
       "      <th>prefecture</th>\n",
       "      <th></th>\n",
       "      <th></th>\n",
       "      <th></th>\n",
       "    </tr>\n",
       "  </thead>\n",
       "  <tbody>\n",
       "    <tr>\n",
       "      <th>Tokyo</th>\n",
       "      <td>12868000</td>\n",
       "      <td>1800.614782</td>\n",
       "      <td>7146.448049</td>\n",
       "    </tr>\n",
       "    <tr>\n",
       "      <th>Kanagawa</th>\n",
       "      <td>8943000</td>\n",
       "      <td>2383.038975</td>\n",
       "      <td>3752.771186</td>\n",
       "    </tr>\n",
       "    <tr>\n",
       "      <th>Osaka</th>\n",
       "      <td>8801000</td>\n",
       "      <td>1923.151529</td>\n",
       "      <td>4576.342460</td>\n",
       "    </tr>\n",
       "    <tr>\n",
       "      <th>Aichi</th>\n",
       "      <td>7418000</td>\n",
       "      <td>5164.400005</td>\n",
       "      <td>1436.372085</td>\n",
       "    </tr>\n",
       "    <tr>\n",
       "      <th>Saitama</th>\n",
       "      <td>7130000</td>\n",
       "      <td>3794.036890</td>\n",
       "      <td>1879.264806</td>\n",
       "    </tr>\n",
       "  </tbody>\n",
       "</table>\n",
       "</div>"
      ],
      "text/plain": [
       "            population    area_sqkm      density\n",
       "prefecture                                      \n",
       "Tokyo         12868000  1800.614782  7146.448049\n",
       "Kanagawa       8943000  2383.038975  3752.771186\n",
       "Osaka          8801000  1923.151529  4576.342460\n",
       "Aichi          7418000  5164.400005  1436.372085\n",
       "Saitama        7130000  3794.036890  1879.264806"
      ]
     },
     "execution_count": 17,
     "metadata": {},
     "output_type": "execute_result"
    }
   ],
   "source": [
    "# DataFrame containing population of each prefecture\n",
    "population = pd.read_csv(\"D:/geospatial_analysis_python/practices/data/japan-prefecture-population.csv\")\n",
    "population.set_index('prefecture', inplace=True)\n",
    "\n",
    "# Calculate area (in square kilometers) of each prefecture\n",
    "area_sqkm = pd.Series(prefectures.geometry.to_crs(epsg=32654).area / 10**6, name='area_sqkm')\n",
    "stats = population.join(area_sqkm)\n",
    "\n",
    "# Add density (per square kilometer) of each prefecture\n",
    "stats['density'] = stats[\"population\"] / stats[\"area_sqkm\"]\n",
    "stats.head()"
   ]
  },
  {
   "cell_type": "code",
   "execution_count": 20,
   "id": "bibliographic-transsexual",
   "metadata": {},
   "outputs": [
    {
     "data": {
      "text/html": [
       "\n",
       "        <iframe\n",
       "            width=\"100%\"\n",
       "            height=\"500px\"\n",
       "            src=\"q_3.html\"\n",
       "            frameborder=\"0\"\n",
       "            allowfullscreen\n",
       "        ></iframe>\n",
       "        "
      ],
      "text/plain": [
       "<IPython.lib.display.IFrame at 0x22131fc14c8>"
      ]
     },
     "execution_count": 20,
     "metadata": {},
     "output_type": "execute_result"
    }
   ],
   "source": [
    "# Create a choropleth map to visualize population density\n",
    "m_3 = folium.Map(location=[35,136], tiles='cartodbpositron', zoom_start=5)\n",
    "Choropleth(geo_data=prefectures['geometry'].__geo_interface__,\n",
    "           data=stats['density'],\n",
    "           key_on=\"feature.id\",\n",
    "           fill_color='YlGnBu',\n",
    "           legend_name='Population density (per square kilometer)'\n",
    "          ).add_to(m_3)\n",
    "# View the map\n",
    "embed_map(m_3, 'q_3.html')"
   ]
  },
  {
   "cell_type": "markdown",
   "id": "quantitative-glass",
   "metadata": {},
   "source": [
    "#### Which high-density prefecture is prone to high-magnitude earthquakes?¶"
   ]
  },
  {
   "cell_type": "code",
   "execution_count": 22,
   "id": "orange-invite",
   "metadata": {},
   "outputs": [
    {
     "data": {
      "text/html": [
       "\n",
       "        <iframe\n",
       "            width=\"100%\"\n",
       "            height=\"500px\"\n",
       "            src=\"q_4.html\"\n",
       "            frameborder=\"0\"\n",
       "            allowfullscreen\n",
       "        ></iframe>\n",
       "        "
      ],
      "text/plain": [
       "<IPython.lib.display.IFrame at 0x2213c25b348>"
      ]
     },
     "execution_count": 22,
     "metadata": {},
     "output_type": "execute_result"
    }
   ],
   "source": [
    "# Create a base map\n",
    "m_4 = folium.Map(location=[35,136], tiles='cartodbpositron', zoom_start=5)\n",
    "# Your code here: create a map\n",
    "# Create a map\n",
    "def color_producer(magnitude):\n",
    "    if magnitude > 6.5:\n",
    "        return 'red'\n",
    "    else:\n",
    "        return 'green'\n",
    "\n",
    "Choropleth(\n",
    "    geo_data=prefectures['geometry'].__geo_interface__,\n",
    "    data=stats['density'],\n",
    "    key_on=\"feature.id\",\n",
    "    fill_color='BuPu',\n",
    "    legend_name='Population density (per square kilometer)').add_to(m_4)\n",
    "\n",
    "for i in range(0,len(earthquakes)):\n",
    "    folium.Circle(\n",
    "        location=[earthquakes.iloc[i]['Latitude'], earthquakes.iloc[i]['Longitude']],\n",
    "        popup=(\"{} ({})\").format(\n",
    "            earthquakes.iloc[i]['Magnitude'],\n",
    "            earthquakes.iloc[i]['DateTime'].year),\n",
    "        radius=earthquakes.iloc[i]['Magnitude']**5.5,\n",
    "        color=color_producer(earthquakes.iloc[i]['Magnitude'])).add_to(m_4)\n",
    "\n",
    "# View the map\n",
    "embed_map(m_4, 'q_4.html')"
   ]
  },
  {
   "cell_type": "code",
   "execution_count": null,
   "id": "little-lesson",
   "metadata": {},
   "outputs": [],
   "source": []
  },
  {
   "cell_type": "code",
   "execution_count": null,
   "id": "pharmaceutical-funeral",
   "metadata": {},
   "outputs": [],
   "source": []
  }
 ],
 "metadata": {
  "kernelspec": {
   "display_name": "Python 3",
   "language": "python",
   "name": "python3"
  },
  "language_info": {
   "codemirror_mode": {
    "name": "ipython",
    "version": 3
   },
   "file_extension": ".py",
   "mimetype": "text/x-python",
   "name": "python",
   "nbconvert_exporter": "python",
   "pygments_lexer": "ipython3",
   "version": "3.7.9"
  }
 },
 "nbformat": 4,
 "nbformat_minor": 5
}
